{
 "cells": [
  {
   "cell_type": "markdown",
   "metadata": {},
   "source": [
    "# Outline\n",
    "\n",
    "Proposed outline for a revamped workshop using DB Browser for SQLite.\n",
    "\n",
    "Requirements:\n",
    "\n",
    "* DB Browser for SQLite\n",
    "* Prepared SQL insert statements?\n",
    "\n",
    "## 1. Tables and spreadsheets as data models\n",
    "\n",
    "Page through some of the tables at <https://www.biodiversitylibrary.org/item/246338#page/1/mode/1up>. What are some assumptions built into this checklist and the underlying workflow?\n",
    "\n",
    "1. Try to digitize the data using the file *observation_list_1.csv*. What sorts of problems do you encounter?\n",
    "2. Try to digitize the data using *observation_list_2.csv*. How is this better? What issues do we encounter now?\n",
    "\n",
    "Alternatively:\n",
    "\n",
    "1. Create shared doc or Jamboard. Goto field notes and develop E's/A's collaboratively on Jamboard.\n",
    "2. Attributes of the container (field not form) vs the attributes of the entities contained by the container.\n",
    "\n",
    "\n",
    "### Entities and attributes\n",
    "\n",
    "1. Break down the observation checklists into entities - what are the nouns in this system?\n",
    "2. What are the attributes of each entity? What is instrinsic to each person, place, or thing?\n",
    "\n",
    "Perhaps also discuss keys - logically, a key is some attribute or combination of attributes that makes an individual entity unique within a class of similar entities. Example: names. There are a lot of Jon Wheelers in the phone book.\n",
    "\n",
    "## 2. Database operations: CRUD\n",
    "\n",
    "Using a database preloaded with a table matching the structure of *observation_list_2*. Or we create and insert manually for the C. Maybe we demonstrate how to do this but have a preloaded table ready, too, to avoid a lot of insertions.\n",
    "\n",
    "Do RUD operations to demonstrate problems with the structure of our second example table. Discuss anomalies.\n",
    "\n",
    "## 3. Relationships and normalization\n",
    "\n",
    "Discuss relationships and cardinality, normalization up to 3NF.\n",
    "\n",
    "1. What are the entities and attributes of our system now? How do they relate to each other?\n",
    "2. What exactly is an observation? Does it have any attributes that are not foreign keys?\n",
    "\n",
    "Prebuild and populate database that satisfies 3NF - use exercises to test:\n",
    "\n",
    "1. CRUD operations work w/o errors or unexpected results.\n",
    "2. Check for anomalies."
   ]
  },
  {
   "cell_type": "markdown",
   "metadata": {},
   "source": [
    "# Outline with Portal data\n",
    "\n",
    "Add citation to repo\n",
    "\n",
    "1. create a denormalized CSV\n",
    "1. demonstrate the problems of updating, deleting, inserting, etc.\n",
    "    1. example tasks to manage or update data in combined table\n",
    "        1. enter data - copy and paste? (provide sample observation data to add?)\n",
    "        1. update data in multiple rows to correct errors - date entry, species/taxa changes\n",
    "    1. in jamboards, have cols as stickies\n",
    "    1. people in breakouts drag into logical groupings (attributes -> entities)\n",
    "    1. result is CSV broken down into entities and attributes\n",
    "1. relationships, cardinality\n",
    "    1. can also be done in Jamboard - draw lines between stickies\n",
    "    1. or use as whiteboard\n",
    "1. walk through normalization vis a vis CRUD\n",
    "    1. create a view that dereferences lookups\n",
    "    1. insert, update, delete some data from tables\n",
    "        1. redo data entry and update tasks from above, refresh the view\n",
    "    1. make corrections to a set of observations\n",
    "    1. go back to view and revel in data integrity\n",
    "1. Maybe have everyone add a new table for observer\n",
    "    1. update surveys table to add observer col\n",
    "    1. update surveys to set observer ID where conditions met\n",
    "    1. select first to see what data will be updated\n",
    "1. Can we refine the model further?\n",
    "    1. A new survey table with date, plot id, observer id\n",
    "    1. add new table for recording observations using survey ID"
   ]
  },
  {
   "cell_type": "code",
   "execution_count": null,
   "metadata": {},
   "outputs": [],
   "source": []
  }
 ],
 "metadata": {
  "kernelspec": {
   "display_name": "Python 3",
   "language": "python",
   "name": "python3"
  },
  "language_info": {
   "codemirror_mode": {
    "name": "ipython",
    "version": 3
   },
   "file_extension": ".py",
   "mimetype": "text/x-python",
   "name": "python",
   "nbconvert_exporter": "python",
   "pygments_lexer": "ipython3",
   "version": "3.8.3"
  }
 },
 "nbformat": 4,
 "nbformat_minor": 4
}
