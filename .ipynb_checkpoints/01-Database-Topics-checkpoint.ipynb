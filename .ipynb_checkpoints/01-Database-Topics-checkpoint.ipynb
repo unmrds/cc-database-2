{
 "cells": [
  {
   "cell_type": "markdown",
   "metadata": {},
   "source": [
    "# Introduction to Database Design\n",
    "---------------------------------------------------------------------------------------------------------\n",
    "\n",
    "In our previous session on databases, we introduced some of the fundamental concepts and definitions applicable to databases in general, along with a brief intro to SQL and SQLite in particular. Some use cases and platforms were also discussed.\n",
    "\n",
    "In this session, we are going to dig a little deeper into databases as representions of systems and processes. A database with a single table may not feel or function much differently from a spreadsheet. Much of the benefit of using databases results from designing them as models of complex systems in ways that spreadsheets just can't do:\n",
    "\n",
    "* Inventory control and billing\n",
    "* Human resources\n",
    "* Blogs\n",
    "* Ecosystems\n",
    "\n",
    "For this session we are also going to play as we go, so let's begin by installing the iPython SQL library developed by Catherine Devlin and others at [https://github.com/catherinedevlin/ipython-sql](https://github.com/catherinedevlin/ipython-sql).\n",
    "\n",
    "Note that in order to run SQL commands within a Jupyter Notebooks, code blocks need to begin with a 'magic' function:\n",
    "\n",
    "%sql\n",
    "for inline SQL or\n",
    "\n",
    "%%sql\n",
    "for multiple lines of SQL in a code block.\n",
    "\n",
    "## Install and load the library."
   ]
  },
  {
   "cell_type": "code",
   "execution_count": 7,
   "metadata": {},
   "outputs": [],
   "source": [
    "#!pip3 install ipython-sql # https://github.com/catherinedevlin/ipython-sql\n",
    "#!pip install ipython-sql # https://github.com/catherinedevlin/ipython-sql"
   ]
  },
  {
   "cell_type": "code",
   "execution_count": 8,
   "metadata": {},
   "outputs": [
    {
     "name": "stdout",
     "output_type": "stream",
     "text": [
      "The sql extension is already loaded. To reload it, use:\n",
      "  %reload_ext sql\n"
     ]
    },
    {
     "data": {
      "text/plain": [
       "'Connected: @None'"
      ]
     },
     "execution_count": 8,
     "metadata": {},
     "output_type": "execute_result"
    }
   ],
   "source": [
    "%load_ext sql\n",
    "%sql sqlite://"
   ]
  },
  {
   "cell_type": "code",
   "execution_count": null,
   "metadata": {},
   "outputs": [],
   "source": []
  }
 ],
 "metadata": {
  "kernelspec": {
   "display_name": "Python 3",
   "language": "python",
   "name": "python3"
  },
  "language_info": {
   "codemirror_mode": {
    "name": "ipython",
    "version": 3
   },
   "file_extension": ".py",
   "mimetype": "text/x-python",
   "name": "python",
   "nbconvert_exporter": "python",
   "pygments_lexer": "ipython3",
   "version": "3.6.7rc1"
  }
 },
 "nbformat": 4,
 "nbformat_minor": 2
}
