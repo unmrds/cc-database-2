{
 "cells": [
  {
   "cell_type": "markdown",
   "metadata": {},
   "source": [
    "# Introduction to Database Design\n",
    "---------------------------------------------------------------------------------------------------------\n",
    "\n",
    "In our previous session on databases, we introduced some of the fundamental concepts and definitions applicable to databases in general, along with a brief intro to SQL and SQLite in particular. Some use cases and platforms were also discussed.\n",
    "\n",
    "In this session, we are going to dig a little deeper into databases as representions of systems and processes. A database with a single table may not feel or function much differently from a spreadsheet. Much of the benefit of using databases results from designing them as models of complex systems in ways that spreadsheets just can't do:\n",
    "\n",
    "* Inventory control and billing\n",
    "* Human resources\n",
    "* Blogs\n",
    "* Ecosystems\n",
    "\n",
    "For this session we are also going to play as we go, so let's begin by installing and importing the SQLAlchemy library. This provides an interface to Python's sqlite3 module.\n",
    "\n",
    "### Install and load SQLAlchemy"
   ]
  },
  {
   "cell_type": "code",
   "execution_count": 26,
   "metadata": {},
   "outputs": [],
   "source": [
    "#!pip3 install sqlalchemy\n",
    "#!pip install sqlalchemy"
   ]
  },
  {
   "cell_type": "code",
   "execution_count": 27,
   "metadata": {},
   "outputs": [],
   "source": [
    "import sqlalchemy"
   ]
  },
  {
   "cell_type": "code",
   "execution_count": 31,
   "metadata": {},
   "outputs": [],
   "source": [
    "# Some info links:\n",
    "\n",
    "# https://www.datanamic.com/support/lt-dez005-introduction-db-modeling.html\n",
    "# https://www.datanamic.com/support/database-normalization.html\n",
    "# https://www.fullstackpython.com/databases.html\n",
    "# https://www.sqlalchemy.org/\n",
    "# https://opentextbc.ca/dbdesign01/chapter/chapter-8-entity-relationship-model/"
   ]
  },
  {
   "cell_type": "code",
   "execution_count": 32,
   "metadata": {},
   "outputs": [],
   "source": [
    "from sqlalchemy import create_engine"
   ]
  },
  {
   "cell_type": "code",
   "execution_count": 33,
   "metadata": {},
   "outputs": [],
   "source": [
    "engine = create_engine('sqlite:///:memory:', echo=True)"
   ]
  },
  {
   "cell_type": "markdown",
   "metadata": {},
   "source": [
    "# The Entity Relationship Data Model\n",
    "------------------------------------------------------------------------------------------------\n",
    "\n",
    "The entity relationship (ER) model is a commonly used model for defining and developing databases. In the simplest terms, the model defines the things (entities) that are important or interesting within a system or process and the relationships between them.\n",
    "\n",
    "Entities are _nouns_, and can be physical or logical:\n",
    "\n",
    "* People - bakers, teachers, students, musicians\n",
    "* Places - stores, websites, states\n",
    "* Things - donuts, albums, purchases\n",
    "\n",
    "Entities are represented as tables within a database.\n",
    "\n",
    "Entities have properties or attributes which describe them. \n",
    "\n",
    "### Exercise\n",
    "\n",
    "Use the **WWW SQL Designer** at [http://ondras.zarovi.cz/sql/demo/](http://ondras.zarovi.cz/sql/demo/)"
   ]
  },
  {
   "cell_type": "code",
   "execution_count": null,
   "metadata": {},
   "outputs": [],
   "source": [
    "# http://ondras.zarovi.cz/sql/demo/"
   ]
  }
 ],
 "metadata": {
  "kernelspec": {
   "display_name": "Python 3",
   "language": "python",
   "name": "python3"
  },
  "language_info": {
   "codemirror_mode": {
    "name": "ipython",
    "version": 3
   },
   "file_extension": ".py",
   "mimetype": "text/x-python",
   "name": "python",
   "nbconvert_exporter": "python",
   "pygments_lexer": "ipython3",
   "version": "3.6.7rc1"
  }
 },
 "nbformat": 4,
 "nbformat_minor": 2
}
