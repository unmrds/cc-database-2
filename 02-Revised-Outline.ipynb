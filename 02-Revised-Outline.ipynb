{
 "cells": [
  {
   "cell_type": "markdown",
   "metadata": {},
   "source": [
    "# Outline with Portal data\n",
    "\n",
    "Add citation to repo\n",
    "\n",
    "1. create a denormalized CSV\n",
    "1. demonstrate the problems of updating, deleting, inserting, etc.\n",
    "    1. example tasks to manage or update data in combined table\n",
    "        1. enter data - copy and paste? (provide sample observation data to add?)\n",
    "        1. update data in multiple rows to correct errors - date entry, species/taxa changes\n",
    "    1. in jamboards, have cols as stickies\n",
    "    1. people in breakouts drag into logical groupings (attributes -> entities)\n",
    "    1. result is CSV broken down into entities and attributes\n",
    "1. relationships, cardinality\n",
    "    1. can also be done in Jamboard - draw lines between stickies\n",
    "    1. or use as whiteboard\n",
    "1. walk through normalization vis a vis CRUD\n",
    "    1. create a view that dereferences lookups\n",
    "    1. insert, update, delete some data from tables\n",
    "        1. redo data entry and update tasks from above, refresh the view\n",
    "    1. make corrections to a set of observations\n",
    "    1. go back to view and revel in data integrity\n",
    "1. Maybe have everyone add a new table for observer\n",
    "    1. update surveys table to add observer col\n",
    "    1. update surveys to set observer ID where conditions met\n",
    "    1. select first to see what data will be updated\n",
    "1. Can we refine the model further?\n",
    "    1. A new survey table with date, plot id, observer id\n",
    "    1. add new table for recording observations using survey ID"
   ]
  },
  {
   "cell_type": "code",
   "execution_count": null,
   "metadata": {},
   "outputs": [],
   "source": []
  }
 ],
 "metadata": {
  "kernelspec": {
   "display_name": "Python 3",
   "language": "python",
   "name": "python3"
  },
  "language_info": {
   "codemirror_mode": {
    "name": "ipython",
    "version": 3
   },
   "file_extension": ".py",
   "mimetype": "text/x-python",
   "name": "python",
   "nbconvert_exporter": "python",
   "pygments_lexer": "ipython3",
   "version": "3.8.3"
  }
 },
 "nbformat": 4,
 "nbformat_minor": 4
}
