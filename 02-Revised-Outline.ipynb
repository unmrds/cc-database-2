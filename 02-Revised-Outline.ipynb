{
 "cells": [
  {
   "cell_type": "markdown",
   "metadata": {},
   "source": [
    "# Outline\n",
    "\n",
    "Proposed outline for a revamped workshop using DB Browser for SQLite.\n",
    "\n",
    "Requirements:\n",
    "\n",
    "* DB Browser for SQLite\n",
    "* Prepared SQL insert statements?\n",
    "\n",
    "## 1. Tables and spreadsheets as data models\n",
    "\n",
    "Page through some of the tables at <https://www.biodiversitylibrary.org/item/246338#page/1/mode/1up>. What are some assumptions built into this checklist and the underlying workflow?\n",
    "\n",
    "1. Try to digitize the data using the file *observation_list_1.csv*. What sorts of problems do you encounter?\n",
    "2. Try to digitize the data using *observation_list_2.csv*. How is this better? What issues do we encounter now?\n",
    "\n",
    "\n",
    "### Entities and attributes\n",
    "\n",
    "1. Break down the observation checklists into entities - what are the nouns in this system?\n",
    "2. What are the attributes of each entity? What is instrinsic to each person, place, or thing?\n",
    "\n",
    "Perhaps also discuss keys - logically, a key is some attribute or combination of attributes that makes an individual entity unique within a class of similar entities. Example: names. There are a lot of Jon Wheelers in the phone book.\n",
    "\n",
    "## 2. Database operations: CRUD\n",
    "\n",
    "Using a database preloaded with a table matching the structure of *observation_list_2*. Or we create and insert manually for the C. Maybe we demonstrate how to do this but have a preloaded table ready, too, to avoid a lot of insertions.\n",
    "\n",
    "Do RUD operations to demonstrate problems with the structure of our second example table. Discuss anomalies.\n",
    "\n",
    "## 3. Relationships and normalization\n",
    "\n",
    "Discuss relationships and cardinality, normalization up to 3NF.\n",
    "\n",
    "1. What are the entities and attributes of our system now? How do they relate to each other?\n",
    "2. What exactly is an observation? Does it have any attributes that are not foreign keys?\n",
    "\n",
    "Prebuild and populate database that satisfies 3NF - use exercises to test:\n",
    "\n",
    "1. CRUD operations work w/o errors or unexpected results.\n",
    "2. Check for anomalies."
   ]
  },
  {
   "cell_type": "code",
   "execution_count": null,
   "metadata": {},
   "outputs": [],
   "source": []
  }
 ],
 "metadata": {
  "kernelspec": {
   "display_name": "Python 3",
   "language": "python",
   "name": "python3"
  },
  "language_info": {
   "codemirror_mode": {
    "name": "ipython",
    "version": 3
   },
   "file_extension": ".py",
   "mimetype": "text/x-python",
   "name": "python",
   "nbconvert_exporter": "python",
   "pygments_lexer": "ipython3",
   "version": "3.8.3"
  }
 },
 "nbformat": 4,
 "nbformat_minor": 4
}
