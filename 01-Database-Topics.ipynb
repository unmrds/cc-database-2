{
 "cells": [
  {
   "cell_type": "markdown",
   "metadata": {},
   "source": [
    "# Introduction to Database Design\n",
    "---------------------------------------------------------------------------------------------------------\n",
    "\n",
    "In our previous session on databases, we introduced some of the fundamental concepts and definitions applicable to databases in general, along with a brief intro to SQL and SQLite in particular. Some use cases and platforms were also discussed.\n",
    "\n",
    "In this session, we are going to dig a little deeper into databases as representions of systems and processes. A database with a single table may not feel or function much differently from a spreadsheet. Much of the benefit of using databases results from designing them as models of complex systems in ways that spreadsheets just can't do:\n",
    "\n",
    "* Inventory control and billing\n",
    "* Human resources\n",
    "* Blogging platforms\n",
    "* Ecosystems\n",
    "\n",
    "There will be some more advanced SQL statements this time, though we will still be using SQLite. Concepts which will be discussed and implemented in our code include\n",
    "\n",
    "* Entities and attributes\n",
    "* Keys\n",
    "* Relationships\n",
    "* Normalization\n",
    "\n",
    "For this session we are also going to play as we go, so let's begin by installing and importing  an iPython notebook SQL library developed by Caterine Devlin and others at https://github.com/catherinedevlin/ipython-sql\n",
    "\n",
    "Note that in order to run SQL commands within a Jupyter Notebooks, code blocks need to begin with a 'magic' function:\n",
    "\n",
    "%sql\n",
    "for inline SQL or\n",
    "\n",
    "%%sql\n",
    "for multiple lines of SQL in a code block.\n",
    "\n",
    "This is a minor addition that is not needed within a standard SQL database or interface, but we like this option because it's notebook friendly and the SQL syntax is otherwise the same.\n",
    "\n",
    "It may be necessary to install the library:\n",
    "\n",
    "### Install and load IPython-SQL"
   ]
  },
  {
   "cell_type": "code",
   "execution_count": 6,
   "metadata": {},
   "outputs": [],
   "source": [
    "#!pip install ipython-sql\n",
    "#!pip3 install ipython-sql"
   ]
  },
  {
   "cell_type": "code",
   "execution_count": 7,
   "metadata": {},
   "outputs": [],
   "source": [
    "%load_ext sql\n",
    "%sql sqlite://"
   ]
  },
  {
   "cell_type": "markdown",
   "metadata": {},
   "source": [
    "# The Entity Relationship Data Model\n",
    "------------------------------------------------------------------------------------------------\n",
    "\n",
    "The entity relationship (ER) model is commonly used to define and develop databases. In the simplest terms, the model defines the things (entities) that are important or interesting within a system or process and the relationships between them.\n",
    "\n",
    "For demonstration purposes, we will construct an ER model of data recorded in the _ATF observation check-lists October - December 1964 (ATF 6)_, published online by the [Biodiversity Heritage Library](https://www.biodiversitylibrary.org/).\n",
    "\n",
    "> National Museum of Natural History (U.S.) Pacific Ocean Biological Survey Program (1964). ATF observation check-lists October - December 1964 (ATF 6). https://www.biodiversitylibrary.org/item/246338. DOI: 10.5962/bhl.title.146255 \n",
    "\n",
    "Looking at the lists at [https://www.biodiversitylibrary.org/item/246338#page/1/mode/1up](https://www.biodiversitylibrary.org/item/246338#page/1/mode/1up), what are some of the challenges related to transferring these data to a flat spreadsheet?\n",
    "\n",
    "## Round 1: A flat, spreadsheet-like table"
   ]
  },
  {
   "cell_type": "code",
   "execution_count": 8,
   "metadata": {},
   "outputs": [
    {
     "name": "stdout",
     "output_type": "stream",
     "text": [
      " * sqlite://\n",
      "Done.\n",
      "Done.\n"
     ]
    },
    {
     "data": {
      "text/plain": [
       "[]"
      ]
     },
     "execution_count": 8,
     "metadata": {},
     "output_type": "execute_result"
    }
   ],
   "source": [
    "%%sql\n",
    "DROP TABLE IF EXISTS observation_list;\n",
    "CREATE TABLE observation_list (\n",
    "  'id' INTEGER NOT NULL PRIMARY KEY AUTOINCREMENT UNIQUE,\n",
    "  'location' TEXT NOT NULL,\n",
    "  'observer' TEXT,\n",
    "  'weather' TEXT,\n",
    "  'date' TEXT NOT NULL,\n",
    "  'time_start' TEXT NOT NULL,\n",
    "  'time_end' TEXT NOT NULL,\n",
    "  'laysan_albatross' INTEGER NULL DEFAULT NULL,\n",
    "  'black_footed_albatross' INTEGER,\n",
    "  'wedge_tailed_shearwater' INTEGER,\n",
    "  'christmas_shearwater' INTEGER,\n",
    "  'audubons_shearwater' INTEGER,\n",
    "  'bonin_petrel' INTEGER,\n",
    "  'phoenix_petrel' INTEGER,\n",
    "  'bulwers_petrel' INTEGER,\n",
    "  'sooty_petrel' INTEGER,\n",
    "  'redtailed_tropicbird' INTEGER,\n",
    "  'whitetailed_tropicbird' INTEGER,\n",
    "  'masked_booby' INTEGER,\n",
    "  'brown_booby' INTEGER,\n",
    "  'redfooted_booby' INTEGER,\n",
    "  'great_frigatebird' INTEGER,\n",
    "  'golden_plover' INTEGER,\n",
    "  'ruddy_turnstone' INTEGER,\n",
    "  'wandering_tattler' INTEGER,\n",
    "  'sanderling' INTEGER,\n",
    "  'bristlethighed_curlew' INTEGER,\n",
    "  'sooty_tern' INTEGER,\n",
    "  'graybacked_tern' INTEGER,\n",
    "  'brownwinged_tern' INTEGER,\n",
    "  'common_noddy' INTEGER,\n",
    "  'hawaiian_noddy' INTEGER,\n",
    "  'bluegray_noddy' INTEGER,\n",
    "  'fairy_tern' INTEGER ,\n",
    "  'remarks' TEXT,\n",
    "  'total_birds' INTEGER\n",
    ");"
   ]
  },
  {
   "cell_type": "code",
   "execution_count": 9,
   "metadata": {},
   "outputs": [
    {
     "name": "stdout",
     "output_type": "stream",
     "text": [
      " * sqlite://\n",
      "Done.\n"
     ]
    },
    {
     "data": {
      "text/html": [
       "<table>\n",
       "    <tr>\n",
       "        <th>cid</th>\n",
       "        <th>name</th>\n",
       "        <th>type</th>\n",
       "        <th>notnull</th>\n",
       "        <th>dflt_value</th>\n",
       "        <th>pk</th>\n",
       "    </tr>\n",
       "    <tr>\n",
       "        <td>0</td>\n",
       "        <td>id</td>\n",
       "        <td>INTEGER</td>\n",
       "        <td>1</td>\n",
       "        <td>None</td>\n",
       "        <td>1</td>\n",
       "    </tr>\n",
       "    <tr>\n",
       "        <td>1</td>\n",
       "        <td>location</td>\n",
       "        <td>TEXT</td>\n",
       "        <td>1</td>\n",
       "        <td>None</td>\n",
       "        <td>0</td>\n",
       "    </tr>\n",
       "    <tr>\n",
       "        <td>2</td>\n",
       "        <td>observer</td>\n",
       "        <td>TEXT</td>\n",
       "        <td>0</td>\n",
       "        <td>None</td>\n",
       "        <td>0</td>\n",
       "    </tr>\n",
       "    <tr>\n",
       "        <td>3</td>\n",
       "        <td>weather</td>\n",
       "        <td>TEXT</td>\n",
       "        <td>0</td>\n",
       "        <td>None</td>\n",
       "        <td>0</td>\n",
       "    </tr>\n",
       "    <tr>\n",
       "        <td>4</td>\n",
       "        <td>date</td>\n",
       "        <td>TEXT</td>\n",
       "        <td>1</td>\n",
       "        <td>None</td>\n",
       "        <td>0</td>\n",
       "    </tr>\n",
       "    <tr>\n",
       "        <td>5</td>\n",
       "        <td>time_start</td>\n",
       "        <td>TEXT</td>\n",
       "        <td>1</td>\n",
       "        <td>None</td>\n",
       "        <td>0</td>\n",
       "    </tr>\n",
       "    <tr>\n",
       "        <td>6</td>\n",
       "        <td>time_end</td>\n",
       "        <td>TEXT</td>\n",
       "        <td>1</td>\n",
       "        <td>None</td>\n",
       "        <td>0</td>\n",
       "    </tr>\n",
       "    <tr>\n",
       "        <td>7</td>\n",
       "        <td>laysan_albatross</td>\n",
       "        <td>INTEGER</td>\n",
       "        <td>0</td>\n",
       "        <td>NULL</td>\n",
       "        <td>0</td>\n",
       "    </tr>\n",
       "    <tr>\n",
       "        <td>8</td>\n",
       "        <td>black_footed_albatross</td>\n",
       "        <td>INTEGER</td>\n",
       "        <td>0</td>\n",
       "        <td>None</td>\n",
       "        <td>0</td>\n",
       "    </tr>\n",
       "    <tr>\n",
       "        <td>9</td>\n",
       "        <td>wedge_tailed_shearwater</td>\n",
       "        <td>INTEGER</td>\n",
       "        <td>0</td>\n",
       "        <td>None</td>\n",
       "        <td>0</td>\n",
       "    </tr>\n",
       "    <tr>\n",
       "        <td>10</td>\n",
       "        <td>christmas_shearwater</td>\n",
       "        <td>INTEGER</td>\n",
       "        <td>0</td>\n",
       "        <td>None</td>\n",
       "        <td>0</td>\n",
       "    </tr>\n",
       "    <tr>\n",
       "        <td>11</td>\n",
       "        <td>audubons_shearwater</td>\n",
       "        <td>INTEGER</td>\n",
       "        <td>0</td>\n",
       "        <td>None</td>\n",
       "        <td>0</td>\n",
       "    </tr>\n",
       "    <tr>\n",
       "        <td>12</td>\n",
       "        <td>bonin_petrel</td>\n",
       "        <td>INTEGER</td>\n",
       "        <td>0</td>\n",
       "        <td>None</td>\n",
       "        <td>0</td>\n",
       "    </tr>\n",
       "    <tr>\n",
       "        <td>13</td>\n",
       "        <td>phoenix_petrel</td>\n",
       "        <td>INTEGER</td>\n",
       "        <td>0</td>\n",
       "        <td>None</td>\n",
       "        <td>0</td>\n",
       "    </tr>\n",
       "    <tr>\n",
       "        <td>14</td>\n",
       "        <td>bulwers_petrel</td>\n",
       "        <td>INTEGER</td>\n",
       "        <td>0</td>\n",
       "        <td>None</td>\n",
       "        <td>0</td>\n",
       "    </tr>\n",
       "    <tr>\n",
       "        <td>15</td>\n",
       "        <td>sooty_petrel</td>\n",
       "        <td>INTEGER</td>\n",
       "        <td>0</td>\n",
       "        <td>None</td>\n",
       "        <td>0</td>\n",
       "    </tr>\n",
       "    <tr>\n",
       "        <td>16</td>\n",
       "        <td>redtailed_tropicbird</td>\n",
       "        <td>INTEGER</td>\n",
       "        <td>0</td>\n",
       "        <td>None</td>\n",
       "        <td>0</td>\n",
       "    </tr>\n",
       "    <tr>\n",
       "        <td>17</td>\n",
       "        <td>whitetailed_tropicbird</td>\n",
       "        <td>INTEGER</td>\n",
       "        <td>0</td>\n",
       "        <td>None</td>\n",
       "        <td>0</td>\n",
       "    </tr>\n",
       "    <tr>\n",
       "        <td>18</td>\n",
       "        <td>masked_booby</td>\n",
       "        <td>INTEGER</td>\n",
       "        <td>0</td>\n",
       "        <td>None</td>\n",
       "        <td>0</td>\n",
       "    </tr>\n",
       "    <tr>\n",
       "        <td>19</td>\n",
       "        <td>brown_booby</td>\n",
       "        <td>INTEGER</td>\n",
       "        <td>0</td>\n",
       "        <td>None</td>\n",
       "        <td>0</td>\n",
       "    </tr>\n",
       "    <tr>\n",
       "        <td>20</td>\n",
       "        <td>redfooted_booby</td>\n",
       "        <td>INTEGER</td>\n",
       "        <td>0</td>\n",
       "        <td>None</td>\n",
       "        <td>0</td>\n",
       "    </tr>\n",
       "    <tr>\n",
       "        <td>21</td>\n",
       "        <td>great_frigatebird</td>\n",
       "        <td>INTEGER</td>\n",
       "        <td>0</td>\n",
       "        <td>None</td>\n",
       "        <td>0</td>\n",
       "    </tr>\n",
       "    <tr>\n",
       "        <td>22</td>\n",
       "        <td>golden_plover</td>\n",
       "        <td>INTEGER</td>\n",
       "        <td>0</td>\n",
       "        <td>None</td>\n",
       "        <td>0</td>\n",
       "    </tr>\n",
       "    <tr>\n",
       "        <td>23</td>\n",
       "        <td>ruddy_turnstone</td>\n",
       "        <td>INTEGER</td>\n",
       "        <td>0</td>\n",
       "        <td>None</td>\n",
       "        <td>0</td>\n",
       "    </tr>\n",
       "    <tr>\n",
       "        <td>24</td>\n",
       "        <td>wandering_tattler</td>\n",
       "        <td>INTEGER</td>\n",
       "        <td>0</td>\n",
       "        <td>None</td>\n",
       "        <td>0</td>\n",
       "    </tr>\n",
       "    <tr>\n",
       "        <td>25</td>\n",
       "        <td>sanderling</td>\n",
       "        <td>INTEGER</td>\n",
       "        <td>0</td>\n",
       "        <td>None</td>\n",
       "        <td>0</td>\n",
       "    </tr>\n",
       "    <tr>\n",
       "        <td>26</td>\n",
       "        <td>bristlethighed_curlew</td>\n",
       "        <td>INTEGER</td>\n",
       "        <td>0</td>\n",
       "        <td>None</td>\n",
       "        <td>0</td>\n",
       "    </tr>\n",
       "    <tr>\n",
       "        <td>27</td>\n",
       "        <td>sooty_tern</td>\n",
       "        <td>INTEGER</td>\n",
       "        <td>0</td>\n",
       "        <td>None</td>\n",
       "        <td>0</td>\n",
       "    </tr>\n",
       "    <tr>\n",
       "        <td>28</td>\n",
       "        <td>graybacked_tern</td>\n",
       "        <td>INTEGER</td>\n",
       "        <td>0</td>\n",
       "        <td>None</td>\n",
       "        <td>0</td>\n",
       "    </tr>\n",
       "    <tr>\n",
       "        <td>29</td>\n",
       "        <td>brownwinged_tern</td>\n",
       "        <td>INTEGER</td>\n",
       "        <td>0</td>\n",
       "        <td>None</td>\n",
       "        <td>0</td>\n",
       "    </tr>\n",
       "    <tr>\n",
       "        <td>30</td>\n",
       "        <td>common_noddy</td>\n",
       "        <td>INTEGER</td>\n",
       "        <td>0</td>\n",
       "        <td>None</td>\n",
       "        <td>0</td>\n",
       "    </tr>\n",
       "    <tr>\n",
       "        <td>31</td>\n",
       "        <td>hawaiian_noddy</td>\n",
       "        <td>INTEGER</td>\n",
       "        <td>0</td>\n",
       "        <td>None</td>\n",
       "        <td>0</td>\n",
       "    </tr>\n",
       "    <tr>\n",
       "        <td>32</td>\n",
       "        <td>bluegray_noddy</td>\n",
       "        <td>INTEGER</td>\n",
       "        <td>0</td>\n",
       "        <td>None</td>\n",
       "        <td>0</td>\n",
       "    </tr>\n",
       "    <tr>\n",
       "        <td>33</td>\n",
       "        <td>fairy_tern</td>\n",
       "        <td>INTEGER</td>\n",
       "        <td>0</td>\n",
       "        <td>None</td>\n",
       "        <td>0</td>\n",
       "    </tr>\n",
       "    <tr>\n",
       "        <td>34</td>\n",
       "        <td>remarks</td>\n",
       "        <td>TEXT</td>\n",
       "        <td>0</td>\n",
       "        <td>None</td>\n",
       "        <td>0</td>\n",
       "    </tr>\n",
       "    <tr>\n",
       "        <td>35</td>\n",
       "        <td>total_birds</td>\n",
       "        <td>INTEGER</td>\n",
       "        <td>0</td>\n",
       "        <td>None</td>\n",
       "        <td>0</td>\n",
       "    </tr>\n",
       "</table>"
      ],
      "text/plain": [
       "[(0, 'id', 'INTEGER', 1, None, 1),\n",
       " (1, 'location', 'TEXT', 1, None, 0),\n",
       " (2, 'observer', 'TEXT', 0, None, 0),\n",
       " (3, 'weather', 'TEXT', 0, None, 0),\n",
       " (4, 'date', 'TEXT', 1, None, 0),\n",
       " (5, 'time_start', 'TEXT', 1, None, 0),\n",
       " (6, 'time_end', 'TEXT', 1, None, 0),\n",
       " (7, 'laysan_albatross', 'INTEGER', 0, 'NULL', 0),\n",
       " (8, 'black_footed_albatross', 'INTEGER', 0, None, 0),\n",
       " (9, 'wedge_tailed_shearwater', 'INTEGER', 0, None, 0),\n",
       " (10, 'christmas_shearwater', 'INTEGER', 0, None, 0),\n",
       " (11, 'audubons_shearwater', 'INTEGER', 0, None, 0),\n",
       " (12, 'bonin_petrel', 'INTEGER', 0, None, 0),\n",
       " (13, 'phoenix_petrel', 'INTEGER', 0, None, 0),\n",
       " (14, 'bulwers_petrel', 'INTEGER', 0, None, 0),\n",
       " (15, 'sooty_petrel', 'INTEGER', 0, None, 0),\n",
       " (16, 'redtailed_tropicbird', 'INTEGER', 0, None, 0),\n",
       " (17, 'whitetailed_tropicbird', 'INTEGER', 0, None, 0),\n",
       " (18, 'masked_booby', 'INTEGER', 0, None, 0),\n",
       " (19, 'brown_booby', 'INTEGER', 0, None, 0),\n",
       " (20, 'redfooted_booby', 'INTEGER', 0, None, 0),\n",
       " (21, 'great_frigatebird', 'INTEGER', 0, None, 0),\n",
       " (22, 'golden_plover', 'INTEGER', 0, None, 0),\n",
       " (23, 'ruddy_turnstone', 'INTEGER', 0, None, 0),\n",
       " (24, 'wandering_tattler', 'INTEGER', 0, None, 0),\n",
       " (25, 'sanderling', 'INTEGER', 0, None, 0),\n",
       " (26, 'bristlethighed_curlew', 'INTEGER', 0, None, 0),\n",
       " (27, 'sooty_tern', 'INTEGER', 0, None, 0),\n",
       " (28, 'graybacked_tern', 'INTEGER', 0, None, 0),\n",
       " (29, 'brownwinged_tern', 'INTEGER', 0, None, 0),\n",
       " (30, 'common_noddy', 'INTEGER', 0, None, 0),\n",
       " (31, 'hawaiian_noddy', 'INTEGER', 0, None, 0),\n",
       " (32, 'bluegray_noddy', 'INTEGER', 0, None, 0),\n",
       " (33, 'fairy_tern', 'INTEGER', 0, None, 0),\n",
       " (34, 'remarks', 'TEXT', 0, None, 0),\n",
       " (35, 'total_birds', 'INTEGER', 0, None, 0)]"
      ]
     },
     "execution_count": 9,
     "metadata": {},
     "output_type": "execute_result"
    }
   ],
   "source": [
    "%sql PRAGMA TABLE_INFO(observation_list);"
   ]
  },
  {
   "cell_type": "code",
   "execution_count": 10,
   "metadata": {},
   "outputs": [
    {
     "name": "stdout",
     "output_type": "stream",
     "text": [
      " * sqlite://\n",
      "(sqlite3.OperationalError) table observation_list has no column named skua\n",
      "[SQL: INSERT INTO observation_list ('location', 'date', 'time_start', 'time_end', 'wedge_tailed_shearwater', 'redfooted_booby', 'great_frigatebird', 'sooty_tern', 'common_noddy', 'skua', 'tern', 'pterochroza', 'remarks', 'total_birds') VALUES ('oahu to 20.38 N 158.34 W', '1964-10-01', '14:20', '17:30', 119, 5, 1, 6, 7, 1, 2, 5, 37.2 and 1.9, 148);]\n",
      "(Background on this error at: http://sqlalche.me/e/13/e3q8)\n"
     ]
    }
   ],
   "source": [
    "# This is (not really) fine until we try to add an observation.\n",
    "# There are no columns for the manually entered species.\n",
    "\n",
    "try:\n",
    "    %sql INSERT INTO observation_list ('location', 'date', 'time_start', 'time_end', 'wedge_tailed_shearwater', 'redfooted_booby', 'great_frigatebird', 'sooty_tern', 'common_noddy', 'skua', 'tern', 'pterochroza', 'remarks', 'total_birds') VALUES ('oahu to 20.38 N 158.34 W', '1964-10-01', '14:20', '17:30', 119, 5, 1, 6, 7, 1, 2, 5, \"37.2 and 1.9\", 148);\n",
    "except Exception as e:\n",
    "    print(str(e))"
   ]
  },
  {
   "cell_type": "code",
   "execution_count": 11,
   "metadata": {},
   "outputs": [
    {
     "name": "stdout",
     "output_type": "stream",
     "text": [
      " * sqlite://\n",
      "1 rows affected.\n"
     ]
    }
   ],
   "source": [
    "# Without modifying our table, we can only insert data by leaving out the manually entered species:\n",
    "\n",
    "try:\n",
    "    %sql INSERT INTO observation_list ('location', 'date', 'time_start', 'time_end', 'wedge_tailed_shearwater', 'redfooted_booby', 'great_frigatebird', 'sooty_tern', 'common_noddy', 'remarks', 'total_birds') VALUES ('oahu to 20.38 N 158.34 W', '1964-10-01', '14:20', '17:30', 119, 5, 1, 6, 7, \"37.2 and 1.9\", 148);\n",
    "except Exception as e:\n",
    "    print(str(e))"
   ]
  },
  {
   "cell_type": "code",
   "execution_count": 12,
   "metadata": {},
   "outputs": [
    {
     "name": "stdout",
     "output_type": "stream",
     "text": [
      " * sqlite://\n",
      "Done.\n"
     ]
    },
    {
     "data": {
      "text/html": [
       "<table>\n",
       "    <tr>\n",
       "        <th>id</th>\n",
       "        <th>location</th>\n",
       "        <th>observer</th>\n",
       "        <th>weather</th>\n",
       "        <th>date</th>\n",
       "        <th>time_start</th>\n",
       "        <th>time_end</th>\n",
       "        <th>laysan_albatross</th>\n",
       "        <th>black_footed_albatross</th>\n",
       "        <th>wedge_tailed_shearwater</th>\n",
       "        <th>christmas_shearwater</th>\n",
       "        <th>audubons_shearwater</th>\n",
       "        <th>bonin_petrel</th>\n",
       "        <th>phoenix_petrel</th>\n",
       "        <th>bulwers_petrel</th>\n",
       "        <th>sooty_petrel</th>\n",
       "        <th>redtailed_tropicbird</th>\n",
       "        <th>whitetailed_tropicbird</th>\n",
       "        <th>masked_booby</th>\n",
       "        <th>brown_booby</th>\n",
       "        <th>redfooted_booby</th>\n",
       "        <th>great_frigatebird</th>\n",
       "        <th>golden_plover</th>\n",
       "        <th>ruddy_turnstone</th>\n",
       "        <th>wandering_tattler</th>\n",
       "        <th>sanderling</th>\n",
       "        <th>bristlethighed_curlew</th>\n",
       "        <th>sooty_tern</th>\n",
       "        <th>graybacked_tern</th>\n",
       "        <th>brownwinged_tern</th>\n",
       "        <th>common_noddy</th>\n",
       "        <th>hawaiian_noddy</th>\n",
       "        <th>bluegray_noddy</th>\n",
       "        <th>fairy_tern</th>\n",
       "        <th>remarks</th>\n",
       "        <th>total_birds</th>\n",
       "    </tr>\n",
       "    <tr>\n",
       "        <td>1</td>\n",
       "        <td>oahu to 20.38 N 158.34 W</td>\n",
       "        <td>None</td>\n",
       "        <td>None</td>\n",
       "        <td>1964-10-01</td>\n",
       "        <td>14:20</td>\n",
       "        <td>17:30</td>\n",
       "        <td>None</td>\n",
       "        <td>None</td>\n",
       "        <td>119</td>\n",
       "        <td>None</td>\n",
       "        <td>None</td>\n",
       "        <td>None</td>\n",
       "        <td>None</td>\n",
       "        <td>None</td>\n",
       "        <td>None</td>\n",
       "        <td>None</td>\n",
       "        <td>None</td>\n",
       "        <td>None</td>\n",
       "        <td>None</td>\n",
       "        <td>5</td>\n",
       "        <td>1</td>\n",
       "        <td>None</td>\n",
       "        <td>None</td>\n",
       "        <td>None</td>\n",
       "        <td>None</td>\n",
       "        <td>None</td>\n",
       "        <td>6</td>\n",
       "        <td>None</td>\n",
       "        <td>None</td>\n",
       "        <td>7</td>\n",
       "        <td>None</td>\n",
       "        <td>None</td>\n",
       "        <td>None</td>\n",
       "        <td>1</td>\n",
       "        <td>148</td>\n",
       "    </tr>\n",
       "</table>"
      ],
      "text/plain": [
       "[(1, 'oahu to 20.38 N 158.34 W', None, None, '1964-10-01', '14:20', '17:30', None, None, 119, None, None, None, None, None, None, None, None, None, None, 5, 1, None, None, None, None, None, 6, None, None, 7, None, None, None, '1', 148)]"
      ]
     },
     "execution_count": 12,
     "metadata": {},
     "output_type": "execute_result"
    }
   ],
   "source": [
    "# Success, but - \n",
    "# Can't analyze location, can't align remarks with birds, and we are missing observations\n",
    "# and the recorded total is wrong.\n",
    "\n",
    "# Also in some cases we have start and end locations\n",
    "# Also, what about abundance and breeding?\n",
    "\n",
    "%sql select * from observation_list"
   ]
  },
  {
   "cell_type": "markdown",
   "metadata": {},
   "source": [
    "So, among the other problems noted with the flat design, the table structure has to be updated every time a new species not on the original list is observed. Just looking at the data, this is something we would have to do for every observation.\n",
    "\n",
    "The entity relationship model provides a process for developing a more robust representation of these observations.\n",
    "\n",
    "The following provides a useful example of an ER diagram, and includes each of the concepts to be discussed below:\n",
    "\n",
    "![Entity Relationship example diagram](./images/1011px-ER_Diagram_MMORPG.png)\n",
    "\n",
    "By <a href=\"https://en.wikipedia.org/wiki/User:TheMattrix\" class=\"extiw\" title=\"en:User:TheMattrix\">TheMattrix</a> at the <a href=\"https://en.wikipedia.org/wiki/\" class=\"extiw\" title=\"w:\">English language Wikipedia</a>, <a href=\"http://creativecommons.org/licenses/by-sa/3.0/\" title=\"Creative Commons Attribution-Share Alike 3.0\">CC BY-SA 3.0</a>, <a href=\"https://commons.wikimedia.org/w/index.php?curid=2278339\">Link</a>\n",
    "\n",
    "\n",
    "## Entities\n",
    "\n",
    "Entities are _nouns_, and can be physical or logical:\n",
    "\n",
    "* People - teachers, students, courses\n",
    "* Places - stores, websites, states\n",
    "* Things - donuts, grades, purchases\n",
    "\n",
    "Entities are represented as tables within a database. \n",
    "\n",
    "### Attributes\n",
    "\n",
    "Entities have properties or attributes which describe them. For each attribute there is domain, or a range of legal values. Domains can be limited by data type - integer, string, etc. - and may be further limited by allowable values. For example, the domain of month names is limited to January, February, etc.\n",
    "\n",
    "There are several types of attributes:\n",
    "\n",
    "* __Simple attributes__ are atomic values which cannot be decomposed or divided. Examples include _age_, _last name_, _glaze_, etc.\n",
    "* __Composite attributes__ consist of multiple simple attributes, such as _address_, _full name_, etc.\n",
    "* __Multivalued attributes__ can include a set of more than one value. _Phone numbers_, _certifications_, etc. are examples of multivalued attributes.\n",
    "* __Derived attributes__ can be calculated using other attributes. A common example is _age_, which can be calculated from a date of birth.\n",
    "\n",
    "### Keys\n",
    "\n",
    "A key is an attribute or combination of attributes which can be used to uniquely identify individual entities within the entity set. That is, keys enforce a uniqueness constraint.\n",
    "\n",
    "There are multiple types of keys. \n",
    "\n",
    "* A __candidate key__ is a simple or composite key that is both unique and minimal. _Minimal_ here means that every included attribute is needed to establish uniqueness. A table or entity set may have more than one candidate keys.\n",
    "* A __composite key__ is a key composed of two or more attributes. Composite keys are also minimal.\n",
    "* A __primary key__ is the candidate key which is selected to uniquely identify entities in the entity set.\n",
    "* A __foreign key__ is an attribute the references the primary key of another table or entity set in the database.\n",
    "\n",
    "#### Exercise\n",
    "\n",
    "1. Referring back to ATF observation checklist, identify some important entities and their attributes. How do different simple and composite attributes serve to uniquely identify individual entities?\n",
    "2. Use the **WWW SQL Designer** at [http://ondras.zarovi.cz/sql/demo/](http://ondras.zarovi.cz/sql/demo/) to create an ERD that can be implemented in a database.\n",
    "\n",
    "## Round 2: Defining entities and attributes"
   ]
  },
  {
   "cell_type": "code",
   "execution_count": 13,
   "metadata": {},
   "outputs": [
    {
     "name": "stdout",
     "output_type": "stream",
     "text": [
      " * sqlite://\n",
      "Done.\n",
      "Done.\n",
      "Done.\n",
      "Done.\n",
      "Done.\n",
      "Done.\n",
      "Done.\n",
      "Done.\n"
     ]
    },
    {
     "data": {
      "text/plain": [
       "[]"
      ]
     },
     "execution_count": 13,
     "metadata": {},
     "output_type": "execute_result"
    }
   ],
   "source": [
    "%%sql\n",
    "DROP TABLE IF EXISTS location;\n",
    "CREATE TABLE location (\n",
    "    'id' INTEGER NOT NULL PRIMARY KEY AUTOINCREMENT UNIQUE,\n",
    "    'start_northing' TEXT NOT NULL,\n",
    "    'start_easting' TEXT NOT NULL,\n",
    "    'end_northing' TEXT NOT NULL,\n",
    "    'end_easting' TEXT NOT NULL,\n",
    "    'start_name' TEXT,\n",
    "    'end_name' TEXT\n",
    ");\n",
    "DROP TABLE IF EXISTS observer;\n",
    "CREATE TABLE observer (\n",
    "    'id' INTEGER NOT NULL PRIMARY KEY AUTOINCREMENT UNIQUE,\n",
    "    'fname' TEXT,\n",
    "    'lname' TEXT,\n",
    "    'org' TEXT\n",
    ");\n",
    "DROP TABLE IF EXISTS species;\n",
    "CREATE TABLE species (\n",
    "    'id' INTEGER NOT NULL PRIMARY KEY AUTOINCREMENT UNIQUE,\n",
    "    'taxon' TEXT,\n",
    "    'common_name' TEXT,\n",
    "    'count' INTEGER,\n",
    "    'breeding' TEXT,\n",
    "    'remarks' TEXT\n",
    ");\n",
    "DROP TABLE IF EXISTS observation;\n",
    "CREATE TABLE observation (\n",
    "    'id' INTEGER NOT NULL PRIMARY KEY AUTOINCREMENT UNIQUE,\n",
    "    'date' TEXT NOT NULL,\n",
    "    'location' INTEGER NOT NULL,\n",
    "    'observer' INTEGER NOT NULL,\n",
    "    'species' INTEGER NOT NULL\n",
    ");"
   ]
  },
  {
   "cell_type": "code",
   "execution_count": 14,
   "metadata": {},
   "outputs": [
    {
     "name": "stdout",
     "output_type": "stream",
     "text": [
      " * sqlite://\n",
      "1 rows affected.\n",
      " * sqlite://\n",
      "1 rows affected.\n",
      " * sqlite://\n",
      "1 rows affected.\n",
      " * sqlite://\n",
      "1 rows affected.\n",
      " * sqlite://\n",
      "1 rows affected.\n",
      " * sqlite://\n",
      "1 rows affected.\n",
      " * sqlite://\n",
      "1 rows affected.\n",
      " * sqlite://\n",
      "1 rows affected.\n",
      " * sqlite://\n",
      "1 rows affected.\n",
      " * sqlite://\n",
      "1 rows affected.\n"
     ]
    }
   ],
   "source": [
    "# Now populate the tables that will be referenced when recording observations.\n",
    "\n",
    "try:\n",
    "    %sql INSERT INTO location ('start_name', 'start_northing', 'start_easting', 'end_northing', 'end_easting') VALUES ('Oahu', '20.50 N', '158.20 W', '20.38 N', '158.34 W');\n",
    "    %sql INSERT INTO observer ('org') VALUES ('ATF')\n",
    "    %sql INSERT INTO species ('common_name', 'count', 'remarks') VALUES ('wedge-tailed shearwater', 119, '37.2')\n",
    "    %sql INSERT INTO species ('common_name', 'count') VALUES ('red-footed booby', 5)\n",
    "    %sql INSERT INTO species ('common_name', 'count') VALUES ('great frigatebird', 1)\n",
    "    %sql INSERT INTO species ('common_name', 'count', 'remarks') VALUES ('sooty tern', 6, '1.9')\n",
    "    %sql INSERT INTO species ('common_name', 'count') VALUES ('common noddy', 7)\n",
    "    %sql INSERT INTO species ('common_name', 'count') VALUES ('skua', 1)\n",
    "    %sql INSERT INTO species ('common_name', 'count') VALUES ('tern', 2)\n",
    "    %sql INSERT INTO species ('common_name', 'count') VALUES ('pterochroza', 5)\n",
    "except Exception as e:\n",
    "    print(str(e))"
   ]
  },
  {
   "cell_type": "code",
   "execution_count": 15,
   "metadata": {},
   "outputs": [
    {
     "name": "stdout",
     "output_type": "stream",
     "text": [
      " * sqlite://\n",
      "Done.\n"
     ]
    },
    {
     "data": {
      "text/html": [
       "<table>\n",
       "    <tr>\n",
       "        <th>id</th>\n",
       "        <th>start_northing</th>\n",
       "        <th>start_easting</th>\n",
       "        <th>end_northing</th>\n",
       "        <th>end_easting</th>\n",
       "        <th>start_name</th>\n",
       "        <th>end_name</th>\n",
       "    </tr>\n",
       "    <tr>\n",
       "        <td>1</td>\n",
       "        <td>20.50 N</td>\n",
       "        <td>158.20 W</td>\n",
       "        <td>20.38 N</td>\n",
       "        <td>158.34 W</td>\n",
       "        <td>Oahu</td>\n",
       "        <td>None</td>\n",
       "    </tr>\n",
       "</table>"
      ],
      "text/plain": [
       "[(1, '20.50 N', '158.20 W', '20.38 N', '158.34 W', 'Oahu', None)]"
      ]
     },
     "execution_count": 15,
     "metadata": {},
     "output_type": "execute_result"
    }
   ],
   "source": [
    "# now can reference ids to insert into observations\n",
    "# note - this is _not_ an example of good design!\n",
    "\n",
    "%sql select * from location"
   ]
  },
  {
   "cell_type": "code",
   "execution_count": 16,
   "metadata": {},
   "outputs": [
    {
     "name": "stdout",
     "output_type": "stream",
     "text": [
      " * sqlite://\n",
      "Done.\n"
     ]
    },
    {
     "data": {
      "text/html": [
       "<table>\n",
       "    <tr>\n",
       "        <th>id</th>\n",
       "        <th>fname</th>\n",
       "        <th>lname</th>\n",
       "        <th>org</th>\n",
       "    </tr>\n",
       "    <tr>\n",
       "        <td>1</td>\n",
       "        <td>None</td>\n",
       "        <td>None</td>\n",
       "        <td>ATF</td>\n",
       "    </tr>\n",
       "</table>"
      ],
      "text/plain": [
       "[(1, None, None, 'ATF')]"
      ]
     },
     "execution_count": 16,
     "metadata": {},
     "output_type": "execute_result"
    }
   ],
   "source": [
    "%sql select * from observer"
   ]
  },
  {
   "cell_type": "code",
   "execution_count": 17,
   "metadata": {},
   "outputs": [
    {
     "name": "stdout",
     "output_type": "stream",
     "text": [
      " * sqlite://\n",
      "Done.\n"
     ]
    },
    {
     "data": {
      "text/html": [
       "<table>\n",
       "    <tr>\n",
       "        <th>id</th>\n",
       "        <th>taxon</th>\n",
       "        <th>common_name</th>\n",
       "        <th>count</th>\n",
       "        <th>breeding</th>\n",
       "        <th>remarks</th>\n",
       "    </tr>\n",
       "    <tr>\n",
       "        <td>1</td>\n",
       "        <td>None</td>\n",
       "        <td>wedge-tailed shearwater</td>\n",
       "        <td>119</td>\n",
       "        <td>None</td>\n",
       "        <td>37.2</td>\n",
       "    </tr>\n",
       "    <tr>\n",
       "        <td>2</td>\n",
       "        <td>None</td>\n",
       "        <td>red-footed booby</td>\n",
       "        <td>5</td>\n",
       "        <td>None</td>\n",
       "        <td>None</td>\n",
       "    </tr>\n",
       "    <tr>\n",
       "        <td>3</td>\n",
       "        <td>None</td>\n",
       "        <td>great frigatebird</td>\n",
       "        <td>1</td>\n",
       "        <td>None</td>\n",
       "        <td>None</td>\n",
       "    </tr>\n",
       "    <tr>\n",
       "        <td>4</td>\n",
       "        <td>None</td>\n",
       "        <td>sooty tern</td>\n",
       "        <td>6</td>\n",
       "        <td>None</td>\n",
       "        <td>1.9</td>\n",
       "    </tr>\n",
       "    <tr>\n",
       "        <td>5</td>\n",
       "        <td>None</td>\n",
       "        <td>common noddy</td>\n",
       "        <td>7</td>\n",
       "        <td>None</td>\n",
       "        <td>None</td>\n",
       "    </tr>\n",
       "    <tr>\n",
       "        <td>6</td>\n",
       "        <td>None</td>\n",
       "        <td>skua</td>\n",
       "        <td>1</td>\n",
       "        <td>None</td>\n",
       "        <td>None</td>\n",
       "    </tr>\n",
       "    <tr>\n",
       "        <td>7</td>\n",
       "        <td>None</td>\n",
       "        <td>tern</td>\n",
       "        <td>2</td>\n",
       "        <td>None</td>\n",
       "        <td>None</td>\n",
       "    </tr>\n",
       "    <tr>\n",
       "        <td>8</td>\n",
       "        <td>None</td>\n",
       "        <td>pterochroza</td>\n",
       "        <td>5</td>\n",
       "        <td>None</td>\n",
       "        <td>None</td>\n",
       "    </tr>\n",
       "</table>"
      ],
      "text/plain": [
       "[(1, None, 'wedge-tailed shearwater', 119, None, '37.2'),\n",
       " (2, None, 'red-footed booby', 5, None, None),\n",
       " (3, None, 'great frigatebird', 1, None, None),\n",
       " (4, None, 'sooty tern', 6, None, '1.9'),\n",
       " (5, None, 'common noddy', 7, None, None),\n",
       " (6, None, 'skua', 1, None, None),\n",
       " (7, None, 'tern', 2, None, None),\n",
       " (8, None, 'pterochroza', 5, None, None)]"
      ]
     },
     "execution_count": 17,
     "metadata": {},
     "output_type": "execute_result"
    }
   ],
   "source": [
    "%sql select * from species"
   ]
  },
  {
   "cell_type": "code",
   "execution_count": 18,
   "metadata": {},
   "outputs": [
    {
     "name": "stdout",
     "output_type": "stream",
     "text": [
      " * sqlite://\n",
      "1 rows affected.\n",
      " * sqlite://\n",
      "1 rows affected.\n",
      " * sqlite://\n",
      "1 rows affected.\n",
      " * sqlite://\n",
      "1 rows affected.\n",
      " * sqlite://\n",
      "1 rows affected.\n",
      " * sqlite://\n",
      "1 rows affected.\n",
      " * sqlite://\n",
      "1 rows affected.\n",
      " * sqlite://\n",
      "1 rows affected.\n"
     ]
    }
   ],
   "source": [
    "# Use IDs to enter observation data\n",
    "\n",
    "try:\n",
    "    %sql INSERT INTO observation ('date', 'location', 'observer', 'species') VALUES ('1964-10-01', 1, 1, 1);\n",
    "    %sql INSERT INTO observation ('date', 'location', 'observer', 'species') VALUES ('1964-10-01', 1, 1, 2);\n",
    "    %sql INSERT INTO observation ('date', 'location', 'observer', 'species') VALUES ('1964-10-01', 1, 1, 3);\n",
    "    %sql INSERT INTO observation ('date', 'location', 'observer', 'species') VALUES ('1964-10-01', 1, 1, 4);\n",
    "    %sql INSERT INTO observation ('date', 'location', 'observer', 'species') VALUES ('1964-10-01', 1, 1, 5);\n",
    "    %sql INSERT INTO observation ('date', 'location', 'observer', 'species') VALUES ('1964-10-01', 1, 1, 6);\n",
    "    %sql INSERT INTO observation ('date', 'location', 'observer', 'species') VALUES ('1964-10-01', 1, 1, 7);\n",
    "    %sql INSERT INTO observation ('date', 'location', 'observer', 'species') VALUES ('1964-10-01', 1, 1, 8);\n",
    "except Exception as e:\n",
    "    print(str(e))"
   ]
  },
  {
   "cell_type": "code",
   "execution_count": 19,
   "metadata": {},
   "outputs": [
    {
     "name": "stdout",
     "output_type": "stream",
     "text": [
      " * sqlite://\n",
      "Done.\n"
     ]
    },
    {
     "data": {
      "text/html": [
       "<table>\n",
       "    <tr>\n",
       "        <th>id</th>\n",
       "        <th>date</th>\n",
       "        <th>location</th>\n",
       "        <th>observer</th>\n",
       "        <th>species</th>\n",
       "    </tr>\n",
       "    <tr>\n",
       "        <td>1</td>\n",
       "        <td>1964-10-01</td>\n",
       "        <td>1</td>\n",
       "        <td>1</td>\n",
       "        <td>1</td>\n",
       "    </tr>\n",
       "    <tr>\n",
       "        <td>2</td>\n",
       "        <td>1964-10-01</td>\n",
       "        <td>1</td>\n",
       "        <td>1</td>\n",
       "        <td>2</td>\n",
       "    </tr>\n",
       "    <tr>\n",
       "        <td>3</td>\n",
       "        <td>1964-10-01</td>\n",
       "        <td>1</td>\n",
       "        <td>1</td>\n",
       "        <td>3</td>\n",
       "    </tr>\n",
       "    <tr>\n",
       "        <td>4</td>\n",
       "        <td>1964-10-01</td>\n",
       "        <td>1</td>\n",
       "        <td>1</td>\n",
       "        <td>4</td>\n",
       "    </tr>\n",
       "    <tr>\n",
       "        <td>5</td>\n",
       "        <td>1964-10-01</td>\n",
       "        <td>1</td>\n",
       "        <td>1</td>\n",
       "        <td>5</td>\n",
       "    </tr>\n",
       "    <tr>\n",
       "        <td>6</td>\n",
       "        <td>1964-10-01</td>\n",
       "        <td>1</td>\n",
       "        <td>1</td>\n",
       "        <td>6</td>\n",
       "    </tr>\n",
       "    <tr>\n",
       "        <td>7</td>\n",
       "        <td>1964-10-01</td>\n",
       "        <td>1</td>\n",
       "        <td>1</td>\n",
       "        <td>7</td>\n",
       "    </tr>\n",
       "    <tr>\n",
       "        <td>8</td>\n",
       "        <td>1964-10-01</td>\n",
       "        <td>1</td>\n",
       "        <td>1</td>\n",
       "        <td>8</td>\n",
       "    </tr>\n",
       "</table>"
      ],
      "text/plain": [
       "[(1, '1964-10-01', 1, 1, 1),\n",
       " (2, '1964-10-01', 1, 1, 2),\n",
       " (3, '1964-10-01', 1, 1, 3),\n",
       " (4, '1964-10-01', 1, 1, 4),\n",
       " (5, '1964-10-01', 1, 1, 5),\n",
       " (6, '1964-10-01', 1, 1, 6),\n",
       " (7, '1964-10-01', 1, 1, 7),\n",
       " (8, '1964-10-01', 1, 1, 8)]"
      ]
     },
     "execution_count": 19,
     "metadata": {},
     "output_type": "execute_result"
    }
   ],
   "source": [
    "# We can deference the ids of location, observer, etc. using joins,\n",
    "# but for the most part this is a (poor) solution to the problems \n",
    "# we encountered trying to capture\n",
    "# observation data with a flat, spreadsheet-like design\n",
    "\n",
    "# join example follows in the next cell\n",
    "\n",
    "%sql select * from observation"
   ]
  },
  {
   "cell_type": "code",
   "execution_count": 20,
   "metadata": {},
   "outputs": [
    {
     "name": "stdout",
     "output_type": "stream",
     "text": [
      " * sqlite://\n",
      "Done.\n"
     ]
    },
    {
     "data": {
      "text/html": [
       "<table>\n",
       "    <tr>\n",
       "        <th>date</th>\n",
       "        <th>common_name</th>\n",
       "        <th>count</th>\n",
       "        <th>remarks</th>\n",
       "    </tr>\n",
       "    <tr>\n",
       "        <td>1964-10-01</td>\n",
       "        <td>wedge-tailed shearwater</td>\n",
       "        <td>119</td>\n",
       "        <td>37.2</td>\n",
       "    </tr>\n",
       "    <tr>\n",
       "        <td>1964-10-01</td>\n",
       "        <td>red-footed booby</td>\n",
       "        <td>5</td>\n",
       "        <td>None</td>\n",
       "    </tr>\n",
       "    <tr>\n",
       "        <td>1964-10-01</td>\n",
       "        <td>great frigatebird</td>\n",
       "        <td>1</td>\n",
       "        <td>None</td>\n",
       "    </tr>\n",
       "    <tr>\n",
       "        <td>1964-10-01</td>\n",
       "        <td>sooty tern</td>\n",
       "        <td>6</td>\n",
       "        <td>1.9</td>\n",
       "    </tr>\n",
       "    <tr>\n",
       "        <td>1964-10-01</td>\n",
       "        <td>common noddy</td>\n",
       "        <td>7</td>\n",
       "        <td>None</td>\n",
       "    </tr>\n",
       "    <tr>\n",
       "        <td>1964-10-01</td>\n",
       "        <td>skua</td>\n",
       "        <td>1</td>\n",
       "        <td>None</td>\n",
       "    </tr>\n",
       "    <tr>\n",
       "        <td>1964-10-01</td>\n",
       "        <td>tern</td>\n",
       "        <td>2</td>\n",
       "        <td>None</td>\n",
       "    </tr>\n",
       "    <tr>\n",
       "        <td>1964-10-01</td>\n",
       "        <td>pterochroza</td>\n",
       "        <td>5</td>\n",
       "        <td>None</td>\n",
       "    </tr>\n",
       "</table>"
      ],
      "text/plain": [
       "[('1964-10-01', 'wedge-tailed shearwater', 119, '37.2'),\n",
       " ('1964-10-01', 'red-footed booby', 5, None),\n",
       " ('1964-10-01', 'great frigatebird', 1, None),\n",
       " ('1964-10-01', 'sooty tern', 6, '1.9'),\n",
       " ('1964-10-01', 'common noddy', 7, None),\n",
       " ('1964-10-01', 'skua', 1, None),\n",
       " ('1964-10-01', 'tern', 2, None),\n",
       " ('1964-10-01', 'pterochroza', 5, None)]"
      ]
     },
     "execution_count": 20,
     "metadata": {},
     "output_type": "execute_result"
    }
   ],
   "source": [
    "%%sql\n",
    "SELECT observation.date, species.common_name, species.count, species.remarks\n",
    "FROM observation\n",
    "INNER JOIN species ON observation.species = species.id"
   ]
  },
  {
   "cell_type": "markdown",
   "metadata": {},
   "source": [
    "# Relationships\n",
    "------------------------------------------------------------------------------------------------------------\n",
    "\n",
    "Relationships represent connections between entities. In keeping with the idea that entities are nouns, relationships are verbs. The MMORPG example above demonstrates this: a character _has_ an account, a region _contains_ characters.\n",
    "\n",
    "_Cardinality_ determines the type of relationship that exists between two entities.\n",
    "\n",
    "* __One to many (1:M)__: In the example above, region -> character is a 1 to many relationship. That is, one region can have many characters in it.\n",
    "* __One to one (1:1)__: Not in the diagram above. One to one relationships indicate possible design issues when entities might really reference the same things.\n",
    "* __Many to many (M:N)__: In the example, character and creep have a many to many relationship. Within a databae, these need to be implemented as a set of 1:M relationships with. \n",
    "\n",
    "\n",
    "#### Exercise\n",
    "\n",
    "1. Identify the relationships between entities in the observation checklist. Since we are working with text, we will use notation similar to the examples as [https://www.datanamic.com/support/lt-dez005-introduction-db-modeling.html](https://www.datanamic.com/support/lt-dez005-introduction-db-modeling.html):\n",
    "\n",
    "Location -> Specimen; 1 location can contain multiple specimen -> 1:N\n",
    "\n",
    "In some ways Round 2 was better than the flat table, but we still have a problem with observation->species relationship. Other relationships are 1:1, as far as we can tell from the data. But as implemented the M:N relationship between observations and species creates a lot of redundancy.\n",
    "\n",
    "\n",
    "# Normalization\n",
    "------------------------------------------------------------------------------------------------------------\n",
    "\n",
    "Normalization is a process of analyzing entities and attributes to reduce redundancy and prevent anomalies:\n",
    "\n",
    "* Update anomaly: Redundant values within a table must be updated multiple times. In the example below, if Smith's favorite donut changes, the table has to be updated twice. Otherwise, there will be inconsistent  values.\n",
    "* Delete anomaly: Deleting data forces the deletion of other attributes. For example, removing apple cider donuts from our table would also force the deletion of Wilson and Wilson's dependent, Pete. (Remeber that DELETE operations delete a whole row, not just a single attribute value.)\n",
    "* Insert anomaly: Data cannot be added to the table without also adding other attributes. If null values are not allowed in the *Favorite_Donut* column, it becomes impossible to add information about an employee who doesn't have a favorite donut.\n",
    "\n",
    "\n",
    "| EmployeeID | LName      |Favorite_Donut | Dependent |\n",
    "|------------|------------|---------------|-----------|\n",
    "| 115        | Smith      | glazed        | James     |\n",
    "| 115        | Smith      | glazed        | Sandy     |\n",
    "| 116        | Wilson     | apple cider   | Pete      |\n",
    "\n",
    "In the second iteration of our database design, the table _species_ particularly demonstrates the update anomaly. Because we combined observation attributes with species attributes, we will end up duplicating values every time a species is observed more than once:\n",
    "\n",
    "```\n",
    "CREATE TABLE species (\n",
    "    'id' INTEGER NOT NULL PRIMARY KEY AUTOINCREMENT UNIQUE,\n",
    "    'taxon' TEXT,\n",
    "    'common_name' TEXT,\n",
    "    'count' INTEGER,\n",
    "    'breeding' TEXT,\n",
    "    'remarks' TEXT\n",
    ");\n",
    "\n",
    "```\n",
    "\n",
    "Normalization involves removing dependencies among attributes to improve the logical structure and consistency of a database.\n",
    "\n",
    "There are progressive degrees of normalization across multiple _normal forms_ (NF). There are six normal forms, but generally a database is considered normalized if the tables satisfy the requirements of the first three NF.\n",
    "\n",
    "* 1NF: No repeating columns. Technically, our first flat table design satisfied 1NF, but imagine instead a structure like:\n",
    "\n",
    "| date       | location   | species_1       | count_1     | species_2    | count_2     |\n",
    "|------------|------------|-----------------|-------------|--------------|-------------|\n",
    "| 1964-10-01 | Oahu       | albatross       | 5           | tern         | 1           |\n",
    "\n",
    "As poor as our initial design was, this would be worse because each observation would have multiple species and count columns, and it's unlikely any two observations would end up having the same number of columns.\n",
    "\n",
    "All of the tables in our second round of database design satisfy 1NF requirements.\n",
    "\n",
    "* 2NF: A table must be 1NF AND the primary key is either a single attribute or, if composite, each non-key attribute must be dependent on the entire key for uniqueness. That is, eliminate redundant values.\n",
    "\n",
    "Technically, all of our table definitions in our second round of design also satisfy the requirements of 2NF because they all have single attribute primary keys. However, our keys are poorly chosen because without additional uniqeness constraints there is nothing to prevent us from entering the same observer or location into the table multiple times:\n",
    "\n",
    "```\n",
    "CREATE TABLE location (\n",
    "    'id' INTEGER NOT NULL PRIMARY KEY AUTOINCREMENT UNIQUE,\n",
    "    'start_northing' TEXT NOT NULL,\n",
    "    'start_easting' TEXT NOT NULL,\n",
    "    'end_northing' TEXT NOT NULL,\n",
    "    'end_easting' TEXT NOT NULL,\n",
    "    'start_name' TEXT,\n",
    "    'end_name' TEXT\n",
    ");\n",
    "\n",
    "CREATE TABLE observer (\n",
    "    'id' INTEGER NOT NULL PRIMARY KEY AUTOINCREMENT UNIQUE,\n",
    "    'fname' TEXT,\n",
    "    'lname' TEXT,\n",
    "    'org' TEXT\n",
    ");\n",
    "```\n",
    "In effect, the keys selected aren't really the minimal attributes needed to uniquely identify every entity in the entity set.\n",
    "\n",
    "* 3NF: A table must be 2NF AND eliminate transitive dependencies. That is, remove non-key attributes that depend on other non-key attributes. Our _species_ table definition from above provides a good example of transitive dependencies:\n",
    "\n",
    "```\n",
    "CREATE TABLE species (\n",
    "    'id' INTEGER NOT NULL PRIMARY KEY AUTOINCREMENT UNIQUE,\n",
    "    'taxon' TEXT,\n",
    "    'common_name' TEXT,\n",
    "    'count' INTEGER,\n",
    "    'breeding' TEXT,\n",
    "    'remarks' TEXT\n",
    ");\n",
    "\n",
    "```\n",
    "\n",
    "The attributes _count_, _breeding_, and _remarks_ depend on each other as observation attributes. We need a way to link this information with species _per observation_ by creating a dependent entity to resolve the M:N relationship between species and observations.\n",
    "\n",
    "## Round 3: Striving for 3NF\n",
    "\n",
    "Note that some of the choices for primary keys in the final design are based on analysis of a limited set of sample data. More data might require further definition.\n",
    "\n",
    "**NOTE**: In the table definition for species, *common_name* is used as the primary key. In principle this is a poor choice - common names are subject to regional variation, etc. For demonstration purposes, we are using it as a key here because taxon information is not available and because of how common names are used within the actual observation lists we are modeling."
   ]
  },
  {
   "cell_type": "code",
   "execution_count": 21,
   "metadata": {},
   "outputs": [
    {
     "name": "stdout",
     "output_type": "stream",
     "text": [
      " * sqlite://\n",
      "Done.\n",
      "Done.\n",
      "Done.\n",
      "Done.\n",
      "Done.\n",
      "Done.\n",
      "Done.\n",
      "Done.\n",
      "Done.\n",
      "Done.\n"
     ]
    },
    {
     "data": {
      "text/plain": [
       "[]"
      ]
     },
     "execution_count": 21,
     "metadata": {},
     "output_type": "execute_result"
    }
   ],
   "source": [
    "%%sql\n",
    "DROP TABLE IF EXISTS location;\n",
    "CREATE TABLE location (\n",
    "    'locID' INTEGER NOT NULL,\n",
    "    'start_northing' TEXT NOT NULL,\n",
    "    'start_easting' TEXT NOT NULL,\n",
    "    'end_northing' TEXT NOT NULL,\n",
    "    'end_easting' TEXT NOT NULL,\n",
    "    'start_name' TEXT,\n",
    "    'end_name' TEXT,\n",
    "    PRIMARY KEY ('start_northing', 'start_easting', 'end_northing', 'end_easting')\n",
    ");\n",
    "DROP TABLE IF EXISTS observer;\n",
    "CREATE TABLE observer (\n",
    "    'observerID' INTEGER NOT NULL,\n",
    "    'fname' TEXT,\n",
    "    'lname' TEXT,\n",
    "    'org' TEXT NOT NULL PRIMARY KEY UNIQUE\n",
    ");\n",
    "DROP TABLE IF EXISTS species;\n",
    "CREATE TABLE species (\n",
    "    'speciesID' INTEGER NOT NULL,\n",
    "    'taxon' TEXT,\n",
    "    'common_name' TEXT NOT NULL PRIMARY KEY UNIQUE\n",
    ");\n",
    "DROP TABLE IF EXISTS observation;\n",
    "CREATE TABLE observation (\n",
    "    'observationID' INTEGER NOT NULL PRIMARY KEY AUTOINCREMENT UNIQUE,\n",
    "    'date' TEXT NOT NULL,\n",
    "    'locID' INTEGER NOT NULL,\n",
    "    'observerID' INTEGER NOT NULL\n",
    ");\n",
    "DROP TABLE IF EXISTS observed_species;\n",
    "CREATE TABLE observed_species (\n",
    "    'id' INTEGER NOT NULL PRIMARY KEY AUTOINCREMENT UNIQUE,\n",
    "    'observationID' INTEGER NOT NULL,\n",
    "    'speciesID' INTEGER NOT NULL,\n",
    "    'count' INTEGER NOT NULL,\n",
    "    'breeding' TEXT,\n",
    "    'remarks' TEXT\n",
    ");"
   ]
  },
  {
   "cell_type": "code",
   "execution_count": 22,
   "metadata": {},
   "outputs": [
    {
     "name": "stdout",
     "output_type": "stream",
     "text": [
      " * sqlite://\n",
      "1 rows affected.\n",
      " * sqlite://\n",
      "1 rows affected.\n"
     ]
    }
   ],
   "source": [
    "# Add location and observer - note that we are no loner autoincrementing IDs\n",
    "\n",
    "try:\n",
    "    %sql INSERT INTO location ('locID', 'start_name', 'start_northing', 'start_easting', 'end_northing', 'end_easting') VALUES (1, 'Oahu', '20.50 N', '158.20 W', '20.38 N', '158.34 W');\n",
    "    %sql INSERT INTO observer ('observerID', 'org') VALUES (1, 'ATF')\n",
    "except Exception as e:\n",
    "    print(str(e))"
   ]
  },
  {
   "cell_type": "code",
   "execution_count": 23,
   "metadata": {},
   "outputs": [
    {
     "name": "stdout",
     "output_type": "stream",
     "text": [
      " * sqlite://\n",
      "1 rows affected.\n",
      " * sqlite://\n",
      "1 rows affected.\n",
      " * sqlite://\n",
      "1 rows affected.\n",
      " * sqlite://\n",
      "1 rows affected.\n",
      " * sqlite://\n",
      "1 rows affected.\n",
      " * sqlite://\n",
      "1 rows affected.\n",
      " * sqlite://\n",
      "1 rows affected.\n",
      " * sqlite://\n",
      "1 rows affected.\n",
      " * sqlite://\n",
      "1 rows affected.\n",
      " * sqlite://\n",
      "1 rows affected.\n",
      " * sqlite://\n",
      "1 rows affected.\n",
      " * sqlite://\n",
      "1 rows affected.\n",
      " * sqlite://\n",
      "1 rows affected.\n",
      " * sqlite://\n",
      "1 rows affected.\n",
      " * sqlite://\n",
      "1 rows affected.\n",
      " * sqlite://\n",
      "1 rows affected.\n",
      " * sqlite://\n",
      "1 rows affected.\n",
      " * sqlite://\n",
      "1 rows affected.\n",
      " * sqlite://\n",
      "1 rows affected.\n",
      " * sqlite://\n",
      "1 rows affected.\n",
      " * sqlite://\n",
      "1 rows affected.\n",
      " * sqlite://\n",
      "1 rows affected.\n",
      " * sqlite://\n",
      "1 rows affected.\n",
      " * sqlite://\n",
      "1 rows affected.\n",
      " * sqlite://\n",
      "1 rows affected.\n",
      " * sqlite://\n",
      "1 rows affected.\n",
      " * sqlite://\n",
      "1 rows affected.\n"
     ]
    }
   ],
   "source": [
    "# A much simpler insert statement for species - populate all of the listed species at once\n",
    "\n",
    "try:\n",
    "    %sql INSERT INTO species ('speciesID', 'common_name') VALUES (1, 'laysan_albatross')\n",
    "    %sql INSERT INTO species ('speciesID', 'common_name') VALUES (2, 'black_footed_albatross' )\n",
    "    %sql INSERT INTO species ('speciesID', 'common_name') VALUES (3, 'wedge_tailed_shearwater')\n",
    "    %sql INSERT INTO species ('speciesID', 'common_name') VALUES (4, 'christmas_shearwater')\n",
    "    %sql INSERT INTO species ('speciesID', 'common_name') VALUES (5, 'audubons_shearwater')\n",
    "    %sql INSERT INTO species ('speciesID', 'common_name') VALUES (6, 'bonin_petrel')\n",
    "    %sql INSERT INTO species ('speciesID', 'common_name') VALUES (7, 'phoenix_petrel')\n",
    "    %sql INSERT INTO species ('speciesID', 'common_name') VALUES (8, 'bulwers_petrel')\n",
    "    %sql INSERT INTO species ('speciesID', 'common_name') VALUES (9, 'sooty_petrel')\n",
    "    %sql INSERT INTO species ('speciesID', 'common_name') VALUES (10, 'redtailed_tropicbird' )\n",
    "    %sql INSERT INTO species ('speciesID', 'common_name') VALUES (11, 'whitetailed_tropicbird')\n",
    "    %sql INSERT INTO species ('speciesID', 'common_name') VALUES (12, 'masked_booby')\n",
    "    %sql INSERT INTO species ('speciesID', 'common_name') VALUES (13, 'brown_booby')\n",
    "    %sql INSERT INTO species ('speciesID', 'common_name') VALUES (14, 'redfooted_booby')\n",
    "    %sql INSERT INTO species ('speciesID', 'common_name') VALUES (15, 'great_frigatebird')\n",
    "    %sql INSERT INTO species ('speciesID', 'common_name') VALUES (16, 'golden_plover')\n",
    "    %sql INSERT INTO species ('speciesID', 'common_name') VALUES (17, 'ruddy_turnstone')\n",
    "    %sql INSERT INTO species ('speciesID', 'common_name') VALUES (18, 'wandering_tattler' )\n",
    "    %sql INSERT INTO species ('speciesID', 'common_name') VALUES (19, 'sanderling')\n",
    "    %sql INSERT INTO species ('speciesID', 'common_name') VALUES (20, 'bristlethighed_curlew')\n",
    "    %sql INSERT INTO species ('speciesID', 'common_name') VALUES (21, 'sooty_tern')\n",
    "    %sql INSERT INTO species ('speciesID', 'common_name') VALUES (22, 'graybacked_tern')\n",
    "    %sql INSERT INTO species ('speciesID', 'common_name') VALUES (23, 'brownwinged_tern')\n",
    "    %sql INSERT INTO species ('speciesID', 'common_name') VALUES (24, 'common_noddy')\n",
    "    %sql INSERT INTO species ('speciesID', 'common_name') VALUES (25, 'hawaiian_noddy')\n",
    "    %sql INSERT INTO species ('speciesID', 'common_name') VALUES (26, 'bluegray_noddy')\n",
    "    %sql INSERT INTO species ('speciesID', 'common_name') VALUES (27, 'fairy_tern')\n",
    "except Exception as e:\n",
    "    print(str(e))"
   ]
  },
  {
   "cell_type": "code",
   "execution_count": 24,
   "metadata": {},
   "outputs": [
    {
     "name": "stdout",
     "output_type": "stream",
     "text": [
      " * sqlite://\n",
      "Done.\n"
     ]
    },
    {
     "data": {
      "text/html": [
       "<table>\n",
       "    <tr>\n",
       "        <th>locID</th>\n",
       "        <th>start_northing</th>\n",
       "        <th>start_easting</th>\n",
       "        <th>end_northing</th>\n",
       "        <th>end_easting</th>\n",
       "        <th>start_name</th>\n",
       "        <th>end_name</th>\n",
       "    </tr>\n",
       "    <tr>\n",
       "        <td>1</td>\n",
       "        <td>20.50 N</td>\n",
       "        <td>158.20 W</td>\n",
       "        <td>20.38 N</td>\n",
       "        <td>158.34 W</td>\n",
       "        <td>Oahu</td>\n",
       "        <td>None</td>\n",
       "    </tr>\n",
       "</table>"
      ],
      "text/plain": [
       "[(1, '20.50 N', '158.20 W', '20.38 N', '158.34 W', 'Oahu', None)]"
      ]
     },
     "execution_count": 24,
     "metadata": {},
     "output_type": "execute_result"
    }
   ],
   "source": [
    "%sql select * from location"
   ]
  },
  {
   "cell_type": "code",
   "execution_count": 25,
   "metadata": {},
   "outputs": [
    {
     "name": "stdout",
     "output_type": "stream",
     "text": [
      " * sqlite://\n",
      "Done.\n"
     ]
    },
    {
     "data": {
      "text/html": [
       "<table>\n",
       "    <tr>\n",
       "        <th>observerID</th>\n",
       "        <th>fname</th>\n",
       "        <th>lname</th>\n",
       "        <th>org</th>\n",
       "    </tr>\n",
       "    <tr>\n",
       "        <td>1</td>\n",
       "        <td>None</td>\n",
       "        <td>None</td>\n",
       "        <td>ATF</td>\n",
       "    </tr>\n",
       "</table>"
      ],
      "text/plain": [
       "[(1, None, None, 'ATF')]"
      ]
     },
     "execution_count": 25,
     "metadata": {},
     "output_type": "execute_result"
    }
   ],
   "source": [
    "%sql select * from observer"
   ]
  },
  {
   "cell_type": "code",
   "execution_count": 26,
   "metadata": {},
   "outputs": [
    {
     "name": "stdout",
     "output_type": "stream",
     "text": [
      " * sqlite://\n",
      "1 rows affected.\n"
     ]
    }
   ],
   "source": [
    "try:\n",
    "    %sql INSERT INTO observation ('date', 'locID', 'observerID') VALUES ('1964-10-01', 1, 1);\n",
    "except Exception as e:\n",
    "    print(str(e))"
   ]
  },
  {
   "cell_type": "code",
   "execution_count": 27,
   "metadata": {},
   "outputs": [
    {
     "name": "stdout",
     "output_type": "stream",
     "text": [
      " * sqlite://\n",
      "Done.\n"
     ]
    },
    {
     "data": {
      "text/html": [
       "<table>\n",
       "    <tr>\n",
       "        <th>observationID</th>\n",
       "        <th>date</th>\n",
       "        <th>locID</th>\n",
       "        <th>observerID</th>\n",
       "    </tr>\n",
       "    <tr>\n",
       "        <td>1</td>\n",
       "        <td>1964-10-01</td>\n",
       "        <td>1</td>\n",
       "        <td>1</td>\n",
       "    </tr>\n",
       "</table>"
      ],
      "text/plain": [
       "[(1, '1964-10-01', 1, 1)]"
      ]
     },
     "execution_count": 27,
     "metadata": {},
     "output_type": "execute_result"
    }
   ],
   "source": [
    "%sql select * from observation"
   ]
  },
  {
   "cell_type": "code",
   "execution_count": 28,
   "metadata": {},
   "outputs": [
    {
     "name": "stdout",
     "output_type": "stream",
     "text": [
      " * sqlite://\n",
      "1 rows affected.\n",
      " * sqlite://\n",
      "1 rows affected.\n",
      " * sqlite://\n",
      "1 rows affected.\n"
     ]
    }
   ],
   "source": [
    "# for each observation we can easily add any birds not on the list\n",
    "# then add observations\n",
    "\n",
    "try:\n",
    "    %sql INSERT INTO species ('speciesID', 'common_name') VALUES (28, 'skua')\n",
    "    %sql INSERT INTO species ('speciesID', 'common_name') VALUES (29, 'tern' )\n",
    "    %sql INSERT INTO species ('speciesID', 'common_name') VALUES (30, 'pterochroza')\n",
    "except Exception as e:\n",
    "    print(str(e))"
   ]
  },
  {
   "cell_type": "code",
   "execution_count": 29,
   "metadata": {},
   "outputs": [
    {
     "name": "stdout",
     "output_type": "stream",
     "text": [
      " * sqlite://\n",
      "1 rows affected.\n",
      " * sqlite://\n",
      "1 rows affected.\n",
      " * sqlite://\n",
      "1 rows affected.\n",
      " * sqlite://\n",
      "1 rows affected.\n",
      " * sqlite://\n",
      "1 rows affected.\n",
      " * sqlite://\n",
      "1 rows affected.\n",
      " * sqlite://\n",
      "1 rows affected.\n",
      " * sqlite://\n",
      "1 rows affected.\n"
     ]
    }
   ],
   "source": [
    "try:\n",
    "    %sql INSERT INTO observed_species ('observationID', 'speciesID', 'count', 'remarks') VALUES (1, 3, 119, '37.2');\n",
    "    %sql INSERT INTO observed_species ('observationID', 'speciesID', 'count') VALUES (1, 14, 5);\n",
    "    %sql INSERT INTO observed_species ('observationID', 'speciesID', 'count') VALUES (1, 15, 1);\n",
    "    %sql INSERT INTO observed_species ('observationID', 'speciesID', 'count', 'remarks') VALUES (1, 21, 6, '1.9');\n",
    "    %sql INSERT INTO observed_species ('observationID', 'speciesID', 'count') VALUES (1, 24, 7);\n",
    "    %sql INSERT INTO observed_species ('observationID', 'speciesID', 'count') VALUES (1, 28, 1);\n",
    "    %sql INSERT INTO observed_species ('observationID', 'speciesID', 'count') VALUES (1, 29, 2);\n",
    "    %sql INSERT INTO observed_species ('observationID', 'speciesID', 'count') VALUES (1, 30, 5);\n",
    "except Exception as e:\n",
    "    print(str(e))"
   ]
  },
  {
   "cell_type": "code",
   "execution_count": 30,
   "metadata": {},
   "outputs": [],
   "source": [
    "# Using multiple inner joins to dereference IDs, we can generate a view of\n",
    "# the data that is complete"
   ]
  },
  {
   "cell_type": "code",
   "execution_count": 31,
   "metadata": {},
   "outputs": [
    {
     "name": "stdout",
     "output_type": "stream",
     "text": [
      " * sqlite://\n",
      "Done.\n"
     ]
    },
    {
     "data": {
      "text/html": [
       "<table>\n",
       "    <tr>\n",
       "        <th>date</th>\n",
       "        <th>start_name</th>\n",
       "        <th>org</th>\n",
       "        <th>common_name</th>\n",
       "        <th>count</th>\n",
       "    </tr>\n",
       "    <tr>\n",
       "        <td>1964-10-01</td>\n",
       "        <td>Oahu</td>\n",
       "        <td>ATF</td>\n",
       "        <td>wedge_tailed_shearwater</td>\n",
       "        <td>119</td>\n",
       "    </tr>\n",
       "    <tr>\n",
       "        <td>1964-10-01</td>\n",
       "        <td>Oahu</td>\n",
       "        <td>ATF</td>\n",
       "        <td>redfooted_booby</td>\n",
       "        <td>5</td>\n",
       "    </tr>\n",
       "    <tr>\n",
       "        <td>1964-10-01</td>\n",
       "        <td>Oahu</td>\n",
       "        <td>ATF</td>\n",
       "        <td>great_frigatebird</td>\n",
       "        <td>1</td>\n",
       "    </tr>\n",
       "    <tr>\n",
       "        <td>1964-10-01</td>\n",
       "        <td>Oahu</td>\n",
       "        <td>ATF</td>\n",
       "        <td>sooty_tern</td>\n",
       "        <td>6</td>\n",
       "    </tr>\n",
       "    <tr>\n",
       "        <td>1964-10-01</td>\n",
       "        <td>Oahu</td>\n",
       "        <td>ATF</td>\n",
       "        <td>common_noddy</td>\n",
       "        <td>7</td>\n",
       "    </tr>\n",
       "    <tr>\n",
       "        <td>1964-10-01</td>\n",
       "        <td>Oahu</td>\n",
       "        <td>ATF</td>\n",
       "        <td>skua</td>\n",
       "        <td>1</td>\n",
       "    </tr>\n",
       "    <tr>\n",
       "        <td>1964-10-01</td>\n",
       "        <td>Oahu</td>\n",
       "        <td>ATF</td>\n",
       "        <td>tern</td>\n",
       "        <td>2</td>\n",
       "    </tr>\n",
       "    <tr>\n",
       "        <td>1964-10-01</td>\n",
       "        <td>Oahu</td>\n",
       "        <td>ATF</td>\n",
       "        <td>pterochroza</td>\n",
       "        <td>5</td>\n",
       "    </tr>\n",
       "</table>"
      ],
      "text/plain": [
       "[('1964-10-01', 'Oahu', 'ATF', 'wedge_tailed_shearwater', 119),\n",
       " ('1964-10-01', 'Oahu', 'ATF', 'redfooted_booby', 5),\n",
       " ('1964-10-01', 'Oahu', 'ATF', 'great_frigatebird', 1),\n",
       " ('1964-10-01', 'Oahu', 'ATF', 'sooty_tern', 6),\n",
       " ('1964-10-01', 'Oahu', 'ATF', 'common_noddy', 7),\n",
       " ('1964-10-01', 'Oahu', 'ATF', 'skua', 1),\n",
       " ('1964-10-01', 'Oahu', 'ATF', 'tern', 2),\n",
       " ('1964-10-01', 'Oahu', 'ATF', 'pterochroza', 5)]"
      ]
     },
     "execution_count": 31,
     "metadata": {},
     "output_type": "execute_result"
    }
   ],
   "source": [
    "%%sql\n",
    "SELECT date, location.start_name, observer.org, species.common_name, observed_species.count\n",
    "FROM observation\n",
    "INNER JOIN location ON location.locID = observation.locID\n",
    "INNER JOIN observer ON observer.observerID = observation.observationID\n",
    "INNER JOIN observed_species ON observed_species.observationID = observation.observationID\n",
    "INNER JOIN species ON species.speciesID = observed_species.speciesID"
   ]
  },
  {
   "cell_type": "code",
   "execution_count": 32,
   "metadata": {},
   "outputs": [],
   "source": [
    "# The total bird count can be calculated using the built in sum() function\n",
    "# Keep in mind this will be different from the total in the observation list because of the one\n",
    "# entry that is illegible"
   ]
  },
  {
   "cell_type": "code",
   "execution_count": 33,
   "metadata": {},
   "outputs": [
    {
     "name": "stdout",
     "output_type": "stream",
     "text": [
      " * sqlite://\n",
      "Done.\n"
     ]
    },
    {
     "data": {
      "text/html": [
       "<table>\n",
       "    <tr>\n",
       "        <th>total_birds</th>\n",
       "        <th>date</th>\n",
       "    </tr>\n",
       "    <tr>\n",
       "        <td>146</td>\n",
       "        <td>1964-10-01</td>\n",
       "    </tr>\n",
       "</table>"
      ],
      "text/plain": [
       "[(146, '1964-10-01')]"
      ]
     },
     "execution_count": 33,
     "metadata": {},
     "output_type": "execute_result"
    }
   ],
   "source": [
    "%%sql\n",
    "SELECT SUM(count) AS total_birds, observation.date\n",
    "FROM observed_species\n",
    "INNER JOIN observation ON observation.observationID = observed_species.observationID"
   ]
  },
  {
   "cell_type": "markdown",
   "metadata": {},
   "source": [
    "## Verify that our design is 3NF"
   ]
  },
  {
   "cell_type": "code",
   "execution_count": 34,
   "metadata": {},
   "outputs": [],
   "source": [
    "# Test whether our design is really 3NF - check for update, delete, and insert anomalies\n",
    "# UPDATE - for any uniquely identified entity, are multiple updates needed to change an attribute?\n",
    "# Make a change and re-run the joined view"
   ]
  },
  {
   "cell_type": "code",
   "execution_count": 35,
   "metadata": {},
   "outputs": [
    {
     "name": "stdout",
     "output_type": "stream",
     "text": [
      " * sqlite://\n",
      "1 rows affected.\n"
     ]
    },
    {
     "data": {
      "text/plain": [
       "[]"
      ]
     },
     "execution_count": 35,
     "metadata": {},
     "output_type": "execute_result"
    }
   ],
   "source": [
    "%%sql\n",
    "UPDATE species\n",
    "SET common_name = 'small_pterochroza'\n",
    "WHERE common_name = 'pterochroza';"
   ]
  },
  {
   "cell_type": "code",
   "execution_count": 36,
   "metadata": {},
   "outputs": [
    {
     "name": "stdout",
     "output_type": "stream",
     "text": [
      " * sqlite://\n",
      "Done.\n"
     ]
    },
    {
     "data": {
      "text/html": [
       "<table>\n",
       "    <tr>\n",
       "        <th>date</th>\n",
       "        <th>start_name</th>\n",
       "        <th>org</th>\n",
       "        <th>common_name</th>\n",
       "        <th>count</th>\n",
       "    </tr>\n",
       "    <tr>\n",
       "        <td>1964-10-01</td>\n",
       "        <td>Oahu</td>\n",
       "        <td>ATF</td>\n",
       "        <td>wedge_tailed_shearwater</td>\n",
       "        <td>119</td>\n",
       "    </tr>\n",
       "    <tr>\n",
       "        <td>1964-10-01</td>\n",
       "        <td>Oahu</td>\n",
       "        <td>ATF</td>\n",
       "        <td>redfooted_booby</td>\n",
       "        <td>5</td>\n",
       "    </tr>\n",
       "    <tr>\n",
       "        <td>1964-10-01</td>\n",
       "        <td>Oahu</td>\n",
       "        <td>ATF</td>\n",
       "        <td>great_frigatebird</td>\n",
       "        <td>1</td>\n",
       "    </tr>\n",
       "    <tr>\n",
       "        <td>1964-10-01</td>\n",
       "        <td>Oahu</td>\n",
       "        <td>ATF</td>\n",
       "        <td>sooty_tern</td>\n",
       "        <td>6</td>\n",
       "    </tr>\n",
       "    <tr>\n",
       "        <td>1964-10-01</td>\n",
       "        <td>Oahu</td>\n",
       "        <td>ATF</td>\n",
       "        <td>common_noddy</td>\n",
       "        <td>7</td>\n",
       "    </tr>\n",
       "    <tr>\n",
       "        <td>1964-10-01</td>\n",
       "        <td>Oahu</td>\n",
       "        <td>ATF</td>\n",
       "        <td>skua</td>\n",
       "        <td>1</td>\n",
       "    </tr>\n",
       "    <tr>\n",
       "        <td>1964-10-01</td>\n",
       "        <td>Oahu</td>\n",
       "        <td>ATF</td>\n",
       "        <td>tern</td>\n",
       "        <td>2</td>\n",
       "    </tr>\n",
       "    <tr>\n",
       "        <td>1964-10-01</td>\n",
       "        <td>Oahu</td>\n",
       "        <td>ATF</td>\n",
       "        <td>small_pterochroza</td>\n",
       "        <td>5</td>\n",
       "    </tr>\n",
       "</table>"
      ],
      "text/plain": [
       "[('1964-10-01', 'Oahu', 'ATF', 'wedge_tailed_shearwater', 119),\n",
       " ('1964-10-01', 'Oahu', 'ATF', 'redfooted_booby', 5),\n",
       " ('1964-10-01', 'Oahu', 'ATF', 'great_frigatebird', 1),\n",
       " ('1964-10-01', 'Oahu', 'ATF', 'sooty_tern', 6),\n",
       " ('1964-10-01', 'Oahu', 'ATF', 'common_noddy', 7),\n",
       " ('1964-10-01', 'Oahu', 'ATF', 'skua', 1),\n",
       " ('1964-10-01', 'Oahu', 'ATF', 'tern', 2),\n",
       " ('1964-10-01', 'Oahu', 'ATF', 'small_pterochroza', 5)]"
      ]
     },
     "execution_count": 36,
     "metadata": {},
     "output_type": "execute_result"
    }
   ],
   "source": [
    "%%sql\n",
    "SELECT date, location.start_name, observer.org, species.common_name, observed_species.count\n",
    "FROM observation\n",
    "INNER JOIN location ON location.locID = observation.locID\n",
    "INNER JOIN observer ON observer.observerID = observation.observationID\n",
    "INNER JOIN observed_species ON observed_species.observationID = observation.observationID\n",
    "INNER JOIN species ON species.speciesID = observed_species.speciesID"
   ]
  },
  {
   "cell_type": "code",
   "execution_count": 37,
   "metadata": {},
   "outputs": [],
   "source": [
    "# DELETE - can we delete a row without deleting other data?\n",
    "# Make a deletion and re-run the joined view"
   ]
  },
  {
   "cell_type": "code",
   "execution_count": 38,
   "metadata": {},
   "outputs": [
    {
     "name": "stdout",
     "output_type": "stream",
     "text": [
      " * sqlite://\n",
      "1 rows affected.\n"
     ]
    },
    {
     "data": {
      "text/plain": [
       "[]"
      ]
     },
     "execution_count": 38,
     "metadata": {},
     "output_type": "execute_result"
    }
   ],
   "source": [
    "%%sql\n",
    "DELETE FROM observer\n",
    "WHERE org = 'ATF';"
   ]
  },
  {
   "cell_type": "code",
   "execution_count": 39,
   "metadata": {},
   "outputs": [
    {
     "name": "stdout",
     "output_type": "stream",
     "text": [
      " * sqlite://\n",
      "Done.\n"
     ]
    },
    {
     "data": {
      "text/html": [
       "<table>\n",
       "    <tr>\n",
       "        <th>date</th>\n",
       "        <th>start_name</th>\n",
       "        <th>org</th>\n",
       "        <th>common_name</th>\n",
       "        <th>count</th>\n",
       "    </tr>\n",
       "</table>"
      ],
      "text/plain": [
       "[]"
      ]
     },
     "execution_count": 39,
     "metadata": {},
     "output_type": "execute_result"
    }
   ],
   "source": [
    "%%sql\n",
    "SELECT date, location.start_name, observer.org, species.common_name, observed_species.count\n",
    "FROM observation\n",
    "INNER JOIN location ON location.locID = observation.locID\n",
    "INNER JOIN observer ON observer.observerID = observation.observationID\n",
    "INNER JOIN observed_species ON observed_species.observationID = observation.observationID\n",
    "INNER JOIN species ON species.speciesID = observed_species.speciesID"
   ]
  },
  {
   "cell_type": "code",
   "execution_count": 40,
   "metadata": {},
   "outputs": [],
   "source": [
    "# That looks bad, but only because we deleted our only observer. There is nothing to join on.\n",
    "# However, the other data - species, location, observation date, etc. are intact.\n",
    "\n",
    "# (There are some caveats here that relate to assumptions made about who or what counts\n",
    "# as an observer.)"
   ]
  },
  {
   "cell_type": "code",
   "execution_count": 41,
   "metadata": {},
   "outputs": [
    {
     "name": "stdout",
     "output_type": "stream",
     "text": [
      " * sqlite://\n",
      "Done.\n"
     ]
    },
    {
     "data": {
      "text/html": [
       "<table>\n",
       "    <tr>\n",
       "        <th>date</th>\n",
       "        <th>start_name</th>\n",
       "        <th>common_name</th>\n",
       "        <th>count</th>\n",
       "    </tr>\n",
       "    <tr>\n",
       "        <td>1964-10-01</td>\n",
       "        <td>Oahu</td>\n",
       "        <td>wedge_tailed_shearwater</td>\n",
       "        <td>119</td>\n",
       "    </tr>\n",
       "    <tr>\n",
       "        <td>1964-10-01</td>\n",
       "        <td>Oahu</td>\n",
       "        <td>redfooted_booby</td>\n",
       "        <td>5</td>\n",
       "    </tr>\n",
       "    <tr>\n",
       "        <td>1964-10-01</td>\n",
       "        <td>Oahu</td>\n",
       "        <td>great_frigatebird</td>\n",
       "        <td>1</td>\n",
       "    </tr>\n",
       "    <tr>\n",
       "        <td>1964-10-01</td>\n",
       "        <td>Oahu</td>\n",
       "        <td>sooty_tern</td>\n",
       "        <td>6</td>\n",
       "    </tr>\n",
       "    <tr>\n",
       "        <td>1964-10-01</td>\n",
       "        <td>Oahu</td>\n",
       "        <td>common_noddy</td>\n",
       "        <td>7</td>\n",
       "    </tr>\n",
       "    <tr>\n",
       "        <td>1964-10-01</td>\n",
       "        <td>Oahu</td>\n",
       "        <td>skua</td>\n",
       "        <td>1</td>\n",
       "    </tr>\n",
       "    <tr>\n",
       "        <td>1964-10-01</td>\n",
       "        <td>Oahu</td>\n",
       "        <td>tern</td>\n",
       "        <td>2</td>\n",
       "    </tr>\n",
       "    <tr>\n",
       "        <td>1964-10-01</td>\n",
       "        <td>Oahu</td>\n",
       "        <td>small_pterochroza</td>\n",
       "        <td>5</td>\n",
       "    </tr>\n",
       "</table>"
      ],
      "text/plain": [
       "[('1964-10-01', 'Oahu', 'wedge_tailed_shearwater', 119),\n",
       " ('1964-10-01', 'Oahu', 'redfooted_booby', 5),\n",
       " ('1964-10-01', 'Oahu', 'great_frigatebird', 1),\n",
       " ('1964-10-01', 'Oahu', 'sooty_tern', 6),\n",
       " ('1964-10-01', 'Oahu', 'common_noddy', 7),\n",
       " ('1964-10-01', 'Oahu', 'skua', 1),\n",
       " ('1964-10-01', 'Oahu', 'tern', 2),\n",
       " ('1964-10-01', 'Oahu', 'small_pterochroza', 5)]"
      ]
     },
     "execution_count": 41,
     "metadata": {},
     "output_type": "execute_result"
    }
   ],
   "source": [
    "%%sql\n",
    "SELECT date, location.start_name, species.common_name, observed_species.count\n",
    "FROM observation\n",
    "INNER JOIN location ON location.locID = observation.locID\n",
    "INNER JOIN observed_species ON observed_species.observationID = observation.observationID\n",
    "INNER JOIN species ON species.speciesID = observed_species.speciesID"
   ]
  },
  {
   "cell_type": "code",
   "execution_count": 42,
   "metadata": {},
   "outputs": [
    {
     "name": "stdout",
     "output_type": "stream",
     "text": [
      " * sqlite://\n",
      "1 rows affected.\n"
     ]
    }
   ],
   "source": [
    "# INSERT - can we add data if particular non-key attributes are not known?\n",
    "# Maybe - we can't add an observation if the date (a non-key attribute) is not known.\n",
    "\n",
    "# Add back our observer\n",
    "try:\n",
    "    %sql INSERT INTO observer ('observerID', 'org') VALUES (1, 'ATF')\n",
    "except Exception as e:\n",
    "    print(str(e))"
   ]
  },
  {
   "cell_type": "code",
   "execution_count": 43,
   "metadata": {},
   "outputs": [
    {
     "name": "stdout",
     "output_type": "stream",
     "text": [
      " * sqlite://\n",
      "(sqlite3.IntegrityError) NOT NULL constraint failed: observation.date\n",
      "[SQL: INSERT INTO observation ('locID', 'observerID') VALUES (1, 1);]\n",
      "(Background on this error at: http://sqlalche.me/e/13/gkpj)\n"
     ]
    }
   ],
   "source": [
    "# Try to insert an observation without a date.\n",
    "\n",
    "try:\n",
    "    %sql INSERT INTO observation ('locID', 'observerID') VALUES (1, 1);\n",
    "except Exception as e:\n",
    "    print(str(e))"
   ]
  },
  {
   "cell_type": "code",
   "execution_count": 44,
   "metadata": {},
   "outputs": [],
   "source": [
    "# So our design is not 3NF. \n",
    "# We can fix this by either allowing null dates or making the date attribute a key."
   ]
  },
  {
   "cell_type": "markdown",
   "metadata": {},
   "source": [
    "# References\n",
    "\n",
    "Adrienne Watt and Nelson Eng (n.d.) Databse Design - 2nd Edition. Retrieved from [https://opentextbc.ca/dbdesign01/](https://opentextbc.ca/dbdesign01/)\n",
    "\n",
    "Datanamic (n.d.) Database normalization. Retrieved from [https://www.datanamic.com/support/database-normalization.html](https://www.datanamic.com/support/database-normalization.html)"
   ]
  },
  {
   "cell_type": "code",
   "execution_count": null,
   "metadata": {
    "collapsed": true
   },
   "outputs": [],
   "source": []
  }
 ],
 "metadata": {
  "kernelspec": {
   "display_name": "Python 3",
   "language": "python",
   "name": "python3"
  },
  "language_info": {
   "codemirror_mode": {
    "name": "ipython",
    "version": 3
   },
   "file_extension": ".py",
   "mimetype": "text/x-python",
   "name": "python",
   "nbconvert_exporter": "python",
   "pygments_lexer": "ipython3",
   "version": "3.8.3"
  }
 },
 "nbformat": 4,
 "nbformat_minor": 2
}
